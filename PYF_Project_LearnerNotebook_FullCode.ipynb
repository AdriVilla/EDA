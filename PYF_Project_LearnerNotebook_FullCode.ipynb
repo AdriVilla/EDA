{
  "cells": [
    {
      "cell_type": "markdown",
      "metadata": {
        "id": "view-in-github",
        "colab_type": "text"
      },
      "source": [
        "<a href=\"https://colab.research.google.com/github/AdriVilla/EDA/blob/main/PYF_Project_LearnerNotebook_FullCode.ipynb\" target=\"_parent\"><img src=\"https://colab.research.google.com/assets/colab-badge.svg\" alt=\"Open In Colab\"/></a>"
      ]
    },
    {
      "cell_type": "markdown",
      "metadata": {
        "id": "Gc8x8QimJY_H"
      },
      "source": [
        "# Project Python Foundations: FoodHub Data Analysis\n",
        "\n",
        "**Marks: 60**"
      ]
    },
    {
      "cell_type": "markdown",
      "metadata": {
        "id": "NqikjkWwJY_L"
      },
      "source": [
        "### Context\n",
        "\n",
        "The number of restaurants in New York is increasing day by day. Lots of students and busy professionals rely on those restaurants due to their hectic lifestyles. Online food delivery service is a great option for them. It provides them with good food from their favorite restaurants. A food aggregator company FoodHub offers access to multiple restaurants through a single smartphone app.\n",
        "\n",
        "The app allows the restaurants to receive a direct online order from a customer. The app assigns a delivery person from the company to pick up the order after it is confirmed by the restaurant. The delivery person then uses the map to reach the restaurant and waits for the food package. Once the food package is handed over to the delivery person, he/she confirms the pick-up in the app and travels to the customer's location to deliver the food. The delivery person confirms the drop-off in the app after delivering the food package to the customer. The customer can rate the order in the app. The food aggregator earns money by collecting a fixed margin of the delivery order from the restaurants.\n",
        "\n",
        "### Objective\n",
        "\n",
        "The food aggregator company has stored the data of the different orders made by the registered customers in their online portal. They want to analyze the data to get a fair idea about the demand of different restaurants which will help them in enhancing their customer experience. Suppose you are hired as a Data Scientist in this company and the Data Science team has shared some of the key questions that need to be answered. Perform the data analysis to find answers to these questions that will help the company to improve the business. \n",
        "\n",
        "### Data Description\n",
        "\n",
        "The data contains the different data related to a food order. The detailed data dictionary is given below.\n",
        "\n",
        "### Data Dictionary\n",
        "\n",
        "* order_id: Unique ID of the order\n",
        "* customer_id: ID of the customer who ordered the food\n",
        "* restaurant_name: Name of the restaurant\n",
        "* cuisine_type: Cuisine ordered by the customer\n",
        "* cost: Cost of the order\n",
        "* day_of_the_week: Indicates whether the order is placed on a weekday or weekend (The weekday is from Monday to Friday and the weekend is Saturday and Sunday)\n",
        "* rating: Rating given by the customer out of 5\n",
        "* food_preparation_time: Time (in minutes) taken by the restaurant to prepare the food. This is calculated by taking the difference between the timestamps of the restaurant's order confirmation and the delivery person's pick-up confirmation.\n",
        "* delivery_time: Time (in minutes) taken by the delivery person to deliver the food package. This is calculated by taking the difference between the timestamps of the delivery person's pick-up confirmation and drop-off information"
      ]
    },
    {
      "cell_type": "markdown",
      "metadata": {
        "id": "cEtNUxNAJY_M"
      },
      "source": [
        "### Let us start by importing the required libraries"
      ]
    },
    {
      "cell_type": "code",
      "execution_count": null,
      "metadata": {
        "id": "u6PlpJAPJY_N"
      },
      "outputs": [],
      "source": [
        "# import libraries for data manipulation\n",
        "import numpy as np\n",
        "import pandas as pd\n",
        "\n",
        "# import libraries for data visualization\n",
        "import matplotlib.pyplot as plt\n",
        "import seaborn as sns"
      ]
    },
    {
      "cell_type": "markdown",
      "metadata": {
        "id": "AdracY0HJY_O"
      },
      "source": [
        "### Understanding the structure of the data"
      ]
    },
    {
      "cell_type": "code",
      "execution_count": null,
      "metadata": {
        "id": "WBh2ZGB9kFhU"
      },
      "outputs": [],
      "source": [
        "# uncomment and run the following lines for Google Colab\n",
        "# from google.colab import drive\n",
        "# drive.mount('/content/drive')"
      ]
    },
    {
      "cell_type": "code",
      "execution_count": null,
      "metadata": {
        "id": "GF01IZDbJY_O",
        "scrolled": true,
        "outputId": "4f16c2b5-c926-4e7b-c889-2614a3abeaaa"
      },
      "outputs": [
        {
          "data": {
            "text/html": [
              "<div>\n",
              "<style scoped>\n",
              "    .dataframe tbody tr th:only-of-type {\n",
              "        vertical-align: middle;\n",
              "    }\n",
              "\n",
              "    .dataframe tbody tr th {\n",
              "        vertical-align: top;\n",
              "    }\n",
              "\n",
              "    .dataframe thead th {\n",
              "        text-align: right;\n",
              "    }\n",
              "</style>\n",
              "<table border=\"1\" class=\"dataframe\">\n",
              "  <thead>\n",
              "    <tr style=\"text-align: right;\">\n",
              "      <th></th>\n",
              "      <th>order_id</th>\n",
              "      <th>customer_id</th>\n",
              "      <th>restaurant_name</th>\n",
              "      <th>cuisine_type</th>\n",
              "      <th>cost_of_the_order</th>\n",
              "      <th>day_of_the_week</th>\n",
              "      <th>rating</th>\n",
              "      <th>food_preparation_time</th>\n",
              "      <th>delivery_time</th>\n",
              "    </tr>\n",
              "  </thead>\n",
              "  <tbody>\n",
              "    <tr>\n",
              "      <th>0</th>\n",
              "      <td>1477147</td>\n",
              "      <td>337525</td>\n",
              "      <td>Hangawi</td>\n",
              "      <td>Korean</td>\n",
              "      <td>30.75</td>\n",
              "      <td>Weekend</td>\n",
              "      <td>Not given</td>\n",
              "      <td>25</td>\n",
              "      <td>20</td>\n",
              "    </tr>\n",
              "    <tr>\n",
              "      <th>1</th>\n",
              "      <td>1477685</td>\n",
              "      <td>358141</td>\n",
              "      <td>Blue Ribbon Sushi Izakaya</td>\n",
              "      <td>Japanese</td>\n",
              "      <td>12.08</td>\n",
              "      <td>Weekend</td>\n",
              "      <td>Not given</td>\n",
              "      <td>25</td>\n",
              "      <td>23</td>\n",
              "    </tr>\n",
              "    <tr>\n",
              "      <th>2</th>\n",
              "      <td>1477070</td>\n",
              "      <td>66393</td>\n",
              "      <td>Cafe Habana</td>\n",
              "      <td>Mexican</td>\n",
              "      <td>12.23</td>\n",
              "      <td>Weekday</td>\n",
              "      <td>5</td>\n",
              "      <td>23</td>\n",
              "      <td>28</td>\n",
              "    </tr>\n",
              "    <tr>\n",
              "      <th>3</th>\n",
              "      <td>1477334</td>\n",
              "      <td>106968</td>\n",
              "      <td>Blue Ribbon Fried Chicken</td>\n",
              "      <td>American</td>\n",
              "      <td>29.20</td>\n",
              "      <td>Weekend</td>\n",
              "      <td>3</td>\n",
              "      <td>25</td>\n",
              "      <td>15</td>\n",
              "    </tr>\n",
              "    <tr>\n",
              "      <th>4</th>\n",
              "      <td>1478249</td>\n",
              "      <td>76942</td>\n",
              "      <td>Dirty Bird to Go</td>\n",
              "      <td>American</td>\n",
              "      <td>11.59</td>\n",
              "      <td>Weekday</td>\n",
              "      <td>4</td>\n",
              "      <td>25</td>\n",
              "      <td>24</td>\n",
              "    </tr>\n",
              "  </tbody>\n",
              "</table>\n",
              "</div>"
            ],
            "text/plain": [
              "   order_id  customer_id            restaurant_name cuisine_type  \\\n",
              "0   1477147       337525                    Hangawi       Korean   \n",
              "1   1477685       358141  Blue Ribbon Sushi Izakaya     Japanese   \n",
              "2   1477070        66393                Cafe Habana      Mexican   \n",
              "3   1477334       106968  Blue Ribbon Fried Chicken     American   \n",
              "4   1478249        76942           Dirty Bird to Go     American   \n",
              "\n",
              "   cost_of_the_order day_of_the_week     rating  food_preparation_time  \\\n",
              "0              30.75         Weekend  Not given                     25   \n",
              "1              12.08         Weekend  Not given                     25   \n",
              "2              12.23         Weekday          5                     23   \n",
              "3              29.20         Weekend          3                     25   \n",
              "4              11.59         Weekday          4                     25   \n",
              "\n",
              "   delivery_time  \n",
              "0             20  \n",
              "1             23  \n",
              "2             28  \n",
              "3             15  \n",
              "4             24  "
            ]
          },
          "execution_count": 3,
          "metadata": {},
          "output_type": "execute_result"
        }
      ],
      "source": [
        "# read the data\n",
        "data = pd.read_csv('foodhub_order.csv')\n",
        "df = data.copy()\n",
        "\n",
        "# returns the first 5 rows\n",
        "df.head()"
      ]
    },
    {
      "cell_type": "code",
      "execution_count": null,
      "metadata": {
        "id": "lgR-GWIPbr8e",
        "outputId": "ddd44d76-da06-4123-ee26-436df0137ea2"
      },
      "outputs": [
        {
          "data": {
            "text/html": [
              "<div>\n",
              "<style scoped>\n",
              "    .dataframe tbody tr th:only-of-type {\n",
              "        vertical-align: middle;\n",
              "    }\n",
              "\n",
              "    .dataframe tbody tr th {\n",
              "        vertical-align: top;\n",
              "    }\n",
              "\n",
              "    .dataframe thead th {\n",
              "        text-align: right;\n",
              "    }\n",
              "</style>\n",
              "<table border=\"1\" class=\"dataframe\">\n",
              "  <thead>\n",
              "    <tr style=\"text-align: right;\">\n",
              "      <th></th>\n",
              "      <th>order_id</th>\n",
              "      <th>customer_id</th>\n",
              "      <th>restaurant_name</th>\n",
              "      <th>cuisine_type</th>\n",
              "      <th>cost_of_the_order</th>\n",
              "      <th>day_of_the_week</th>\n",
              "      <th>rating</th>\n",
              "      <th>food_preparation_time</th>\n",
              "      <th>delivery_time</th>\n",
              "    </tr>\n",
              "  </thead>\n",
              "  <tbody>\n",
              "    <tr>\n",
              "      <th>1893</th>\n",
              "      <td>1476701</td>\n",
              "      <td>292602</td>\n",
              "      <td>Chipotle Mexican Grill $1.99 Delivery</td>\n",
              "      <td>Mexican</td>\n",
              "      <td>22.31</td>\n",
              "      <td>Weekend</td>\n",
              "      <td>5</td>\n",
              "      <td>31</td>\n",
              "      <td>17</td>\n",
              "    </tr>\n",
              "    <tr>\n",
              "      <th>1894</th>\n",
              "      <td>1477421</td>\n",
              "      <td>397537</td>\n",
              "      <td>The Smile</td>\n",
              "      <td>American</td>\n",
              "      <td>12.18</td>\n",
              "      <td>Weekend</td>\n",
              "      <td>5</td>\n",
              "      <td>31</td>\n",
              "      <td>19</td>\n",
              "    </tr>\n",
              "    <tr>\n",
              "      <th>1895</th>\n",
              "      <td>1477819</td>\n",
              "      <td>35309</td>\n",
              "      <td>Blue Ribbon Sushi</td>\n",
              "      <td>Japanese</td>\n",
              "      <td>25.22</td>\n",
              "      <td>Weekday</td>\n",
              "      <td>Not given</td>\n",
              "      <td>31</td>\n",
              "      <td>24</td>\n",
              "    </tr>\n",
              "    <tr>\n",
              "      <th>1896</th>\n",
              "      <td>1477513</td>\n",
              "      <td>64151</td>\n",
              "      <td>Jack's Wife Freda</td>\n",
              "      <td>Mediterranean</td>\n",
              "      <td>12.18</td>\n",
              "      <td>Weekday</td>\n",
              "      <td>5</td>\n",
              "      <td>23</td>\n",
              "      <td>31</td>\n",
              "    </tr>\n",
              "    <tr>\n",
              "      <th>1897</th>\n",
              "      <td>1478056</td>\n",
              "      <td>120353</td>\n",
              "      <td>Blue Ribbon Sushi</td>\n",
              "      <td>Japanese</td>\n",
              "      <td>19.45</td>\n",
              "      <td>Weekend</td>\n",
              "      <td>Not given</td>\n",
              "      <td>28</td>\n",
              "      <td>24</td>\n",
              "    </tr>\n",
              "  </tbody>\n",
              "</table>\n",
              "</div>"
            ],
            "text/plain": [
              "      order_id  customer_id                        restaurant_name  \\\n",
              "1893   1476701       292602  Chipotle Mexican Grill $1.99 Delivery   \n",
              "1894   1477421       397537                              The Smile   \n",
              "1895   1477819        35309                      Blue Ribbon Sushi   \n",
              "1896   1477513        64151                      Jack's Wife Freda   \n",
              "1897   1478056       120353                      Blue Ribbon Sushi   \n",
              "\n",
              "       cuisine_type  cost_of_the_order day_of_the_week     rating  \\\n",
              "1893        Mexican              22.31         Weekend          5   \n",
              "1894       American              12.18         Weekend          5   \n",
              "1895       Japanese              25.22         Weekday  Not given   \n",
              "1896  Mediterranean              12.18         Weekday          5   \n",
              "1897       Japanese              19.45         Weekend  Not given   \n",
              "\n",
              "      food_preparation_time  delivery_time  \n",
              "1893                     31             17  \n",
              "1894                     31             19  \n",
              "1895                     31             24  \n",
              "1896                     23             31  \n",
              "1897                     28             24  "
            ]
          },
          "execution_count": 4,
          "metadata": {},
          "output_type": "execute_result"
        }
      ],
      "source": [
        "df.tail()"
      ]
    },
    {
      "cell_type": "markdown",
      "metadata": {
        "id": "J_Y9aJDJJY_P"
      },
      "source": [
        "#### Observations:\n",
        "\n",
        "The Data Frame has 9 columns corresponding to variables:\n",
        "\n",
        "order_id   \n",
        "customer_id\n",
        "restaurant_name         \n",
        "cuisine_type            \n",
        "day_of_the_week        \n",
        "cost_of_the_order     \n",
        "rating                 \n",
        "food_preparation_time   \n",
        "delivery_time \n",
        "\n",
        "Observations in each row correspond to each order placed by a customer."
      ]
    },
    {
      "cell_type": "markdown",
      "metadata": {
        "id": "c3kenV4vJY_Q"
      },
      "source": [
        "### **Question 1:** How many rows and columns are present in the data? [0.5 mark]"
      ]
    },
    {
      "cell_type": "code",
      "execution_count": null,
      "metadata": {
        "id": "Yvz5i-PhJY_Q",
        "outputId": "f1a14976-c327-4707-a2e4-8c4ce31e8233"
      },
      "outputs": [
        {
          "data": {
            "text/plain": [
              "(1898, 9)"
            ]
          },
          "execution_count": 5,
          "metadata": {},
          "output_type": "execute_result"
        }
      ],
      "source": [
        "df.shape"
      ]
    },
    {
      "cell_type": "markdown",
      "metadata": {
        "id": "UsTNy3unJY_R"
      },
      "source": [
        "#### Observations:\n",
        "There are 1898 observations (rows) and 9 variables (columns)."
      ]
    },
    {
      "cell_type": "markdown",
      "metadata": {
        "id": "jRXakVrUJY_R"
      },
      "source": [
        "### **Question 2:** What are the datatypes of the different columns in the dataset? (The info() function can be used) [0.5 mark]"
      ]
    },
    {
      "cell_type": "code",
      "execution_count": null,
      "metadata": {
        "id": "Kp70Z0BNJY_R",
        "outputId": "81d9d136-fc45-4737-f9cb-79daf0c088e7"
      },
      "outputs": [
        {
          "name": "stdout",
          "output_type": "stream",
          "text": [
            "<class 'pandas.core.frame.DataFrame'>\n",
            "RangeIndex: 1898 entries, 0 to 1897\n",
            "Data columns (total 9 columns):\n",
            " #   Column                 Non-Null Count  Dtype  \n",
            "---  ------                 --------------  -----  \n",
            " 0   order_id               1898 non-null   int64  \n",
            " 1   customer_id            1898 non-null   int64  \n",
            " 2   restaurant_name        1898 non-null   object \n",
            " 3   cuisine_type           1898 non-null   object \n",
            " 4   cost_of_the_order      1898 non-null   float64\n",
            " 5   day_of_the_week        1898 non-null   object \n",
            " 6   rating                 1898 non-null   object \n",
            " 7   food_preparation_time  1898 non-null   int64  \n",
            " 8   delivery_time          1898 non-null   int64  \n",
            "dtypes: float64(1), int64(4), object(4)\n",
            "memory usage: 133.6+ KB\n"
          ]
        }
      ],
      "source": [
        "# Use info() to print a concise summary of the DataFrame\n",
        "df.info()"
      ]
    },
    {
      "cell_type": "code",
      "execution_count": null,
      "metadata": {
        "id": "_fD192Z3br8k"
      },
      "outputs": [],
      "source": [
        "# Treating \"not given\" values as naan\n",
        "df['rating'] = df['rating'].replace(['Not given'],np.nan)"
      ]
    },
    {
      "cell_type": "code",
      "execution_count": null,
      "metadata": {
        "id": "DDS-PWG0br8l"
      },
      "outputs": [],
      "source": [
        "# Converting values to float\n",
        "df['rating'] = df['rating'].astype(float)"
      ]
    },
    {
      "cell_type": "code",
      "execution_count": null,
      "metadata": {
        "id": "yLFlWfZMbr8l",
        "outputId": "69647bf1-da0e-410e-8c67-8dba05cfc98c"
      },
      "outputs": [
        {
          "name": "stdout",
          "output_type": "stream",
          "text": [
            "<class 'pandas.core.frame.DataFrame'>\n",
            "RangeIndex: 1898 entries, 0 to 1897\n",
            "Data columns (total 9 columns):\n",
            " #   Column                 Non-Null Count  Dtype  \n",
            "---  ------                 --------------  -----  \n",
            " 0   order_id               1898 non-null   int64  \n",
            " 1   customer_id            1898 non-null   int64  \n",
            " 2   restaurant_name        1898 non-null   object \n",
            " 3   cuisine_type           1898 non-null   object \n",
            " 4   cost_of_the_order      1898 non-null   float64\n",
            " 5   day_of_the_week        1898 non-null   object \n",
            " 6   rating                 1162 non-null   float64\n",
            " 7   food_preparation_time  1898 non-null   int64  \n",
            " 8   delivery_time          1898 non-null   int64  \n",
            "dtypes: float64(2), int64(4), object(3)\n",
            "memory usage: 133.6+ KB\n"
          ]
        }
      ],
      "source": [
        "df.info()"
      ]
    },
    {
      "cell_type": "markdown",
      "metadata": {
        "id": "WJes5GP2JY_S"
      },
      "source": [
        "#### Observations:\n",
        "* Initially there were 5 numerical variables and 4 object variables.\n",
        "* We got now 6 numerical variables and 3 object variables.\n",
        "* \"Rating\" was considered as an object (string) and seemed to have no missing values, but now with the correct data type, we can see that it has 736 missing values. \n"
      ]
    },
    {
      "cell_type": "markdown",
      "metadata": {
        "id": "pF_92MN6JY_S"
      },
      "source": [
        "### **Question 3:** Are there any missing values in the data? If yes, treat them using an appropriate method. [1 mark]"
      ]
    },
    {
      "cell_type": "code",
      "execution_count": null,
      "metadata": {
        "id": "UHf4acKBbr8o",
        "outputId": "e0a1092a-61a5-44a9-acf0-4f4fcb882169"
      },
      "outputs": [
        {
          "data": {
            "text/html": [
              "<div>\n",
              "<style scoped>\n",
              "    .dataframe tbody tr th:only-of-type {\n",
              "        vertical-align: middle;\n",
              "    }\n",
              "\n",
              "    .dataframe tbody tr th {\n",
              "        vertical-align: top;\n",
              "    }\n",
              "\n",
              "    .dataframe thead th {\n",
              "        text-align: right;\n",
              "    }\n",
              "</style>\n",
              "<table border=\"1\" class=\"dataframe\">\n",
              "  <thead>\n",
              "    <tr style=\"text-align: right;\">\n",
              "      <th></th>\n",
              "      <th>order_id</th>\n",
              "      <th>customer_id</th>\n",
              "      <th>restaurant_name</th>\n",
              "      <th>cuisine_type</th>\n",
              "      <th>cost_of_the_order</th>\n",
              "      <th>day_of_the_week</th>\n",
              "      <th>rating</th>\n",
              "      <th>food_preparation_time</th>\n",
              "      <th>delivery_time</th>\n",
              "    </tr>\n",
              "  </thead>\n",
              "  <tbody>\n",
              "    <tr>\n",
              "      <th>0</th>\n",
              "      <td>1477147</td>\n",
              "      <td>337525</td>\n",
              "      <td>Hangawi</td>\n",
              "      <td>Korean</td>\n",
              "      <td>30.75</td>\n",
              "      <td>Weekend</td>\n",
              "      <td>NaN</td>\n",
              "      <td>25</td>\n",
              "      <td>20</td>\n",
              "    </tr>\n",
              "    <tr>\n",
              "      <th>1</th>\n",
              "      <td>1477685</td>\n",
              "      <td>358141</td>\n",
              "      <td>Blue Ribbon Sushi Izakaya</td>\n",
              "      <td>Japanese</td>\n",
              "      <td>12.08</td>\n",
              "      <td>Weekend</td>\n",
              "      <td>NaN</td>\n",
              "      <td>25</td>\n",
              "      <td>23</td>\n",
              "    </tr>\n",
              "    <tr>\n",
              "      <th>2</th>\n",
              "      <td>1477070</td>\n",
              "      <td>66393</td>\n",
              "      <td>Cafe Habana</td>\n",
              "      <td>Mexican</td>\n",
              "      <td>12.23</td>\n",
              "      <td>Weekday</td>\n",
              "      <td>5.0</td>\n",
              "      <td>23</td>\n",
              "      <td>28</td>\n",
              "    </tr>\n",
              "    <tr>\n",
              "      <th>3</th>\n",
              "      <td>1477334</td>\n",
              "      <td>106968</td>\n",
              "      <td>Blue Ribbon Fried Chicken</td>\n",
              "      <td>American</td>\n",
              "      <td>29.20</td>\n",
              "      <td>Weekend</td>\n",
              "      <td>3.0</td>\n",
              "      <td>25</td>\n",
              "      <td>15</td>\n",
              "    </tr>\n",
              "    <tr>\n",
              "      <th>4</th>\n",
              "      <td>1478249</td>\n",
              "      <td>76942</td>\n",
              "      <td>Dirty Bird to Go</td>\n",
              "      <td>American</td>\n",
              "      <td>11.59</td>\n",
              "      <td>Weekday</td>\n",
              "      <td>4.0</td>\n",
              "      <td>25</td>\n",
              "      <td>24</td>\n",
              "    </tr>\n",
              "  </tbody>\n",
              "</table>\n",
              "</div>"
            ],
            "text/plain": [
              "   order_id  customer_id            restaurant_name cuisine_type  \\\n",
              "0   1477147       337525                    Hangawi       Korean   \n",
              "1   1477685       358141  Blue Ribbon Sushi Izakaya     Japanese   \n",
              "2   1477070        66393                Cafe Habana      Mexican   \n",
              "3   1477334       106968  Blue Ribbon Fried Chicken     American   \n",
              "4   1478249        76942           Dirty Bird to Go     American   \n",
              "\n",
              "   cost_of_the_order day_of_the_week  rating  food_preparation_time  \\\n",
              "0              30.75         Weekend     NaN                     25   \n",
              "1              12.08         Weekend     NaN                     25   \n",
              "2              12.23         Weekday     5.0                     23   \n",
              "3              29.20         Weekend     3.0                     25   \n",
              "4              11.59         Weekday     4.0                     25   \n",
              "\n",
              "   delivery_time  \n",
              "0             20  \n",
              "1             23  \n",
              "2             28  \n",
              "3             15  \n",
              "4             24  "
            ]
          },
          "execution_count": 10,
          "metadata": {},
          "output_type": "execute_result"
        }
      ],
      "source": [
        "df.head()"
      ]
    },
    {
      "cell_type": "code",
      "execution_count": null,
      "metadata": {
        "id": "S6HkvHaObr8p",
        "outputId": "8c29d6e5-21c0-4429-d958-39241630102d"
      },
      "outputs": [
        {
          "name": "stdout",
          "output_type": "stream",
          "text": [
            "<class 'pandas.core.frame.DataFrame'>\n",
            "RangeIndex: 1898 entries, 0 to 1897\n",
            "Data columns (total 9 columns):\n",
            " #   Column                 Non-Null Count  Dtype  \n",
            "---  ------                 --------------  -----  \n",
            " 0   order_id               1898 non-null   int64  \n",
            " 1   customer_id            1898 non-null   int64  \n",
            " 2   restaurant_name        1898 non-null   object \n",
            " 3   cuisine_type           1898 non-null   object \n",
            " 4   cost_of_the_order      1898 non-null   float64\n",
            " 5   day_of_the_week        1898 non-null   object \n",
            " 6   rating                 1162 non-null   float64\n",
            " 7   food_preparation_time  1898 non-null   int64  \n",
            " 8   delivery_time          1898 non-null   int64  \n",
            "dtypes: float64(2), int64(4), object(3)\n",
            "memory usage: 133.6+ KB\n"
          ]
        }
      ],
      "source": [
        "df.info()"
      ]
    },
    {
      "cell_type": "markdown",
      "metadata": {
        "id": "013ncrffbr8p"
      },
      "source": [
        "* Rating shows 736 missing values. "
      ]
    },
    {
      "cell_type": "code",
      "execution_count": null,
      "metadata": {
        "id": "2c-QZEXKbr8q",
        "outputId": "cb1a224b-d962-45f6-e0b5-de440b720319"
      },
      "outputs": [
        {
          "name": "stdout",
          "output_type": "stream",
          "text": [
            "4.344234079173838\n",
            "0    5.0\n",
            "dtype: float64\n",
            "5.0\n"
          ]
        }
      ],
      "source": [
        "# Analysing rating mean/mode/median\n",
        "print(df['rating'].mean())\n",
        "print(df['rating'].mode())\n",
        "print(df['rating'].median())"
      ]
    },
    {
      "cell_type": "code",
      "execution_count": null,
      "metadata": {
        "id": "sPcNiBsobr8r",
        "outputId": "8a68f56e-94a3-49fd-da4c-1a2507b596c9"
      },
      "outputs": [
        {
          "data": {
            "text/html": [
              "<div>\n",
              "<style scoped>\n",
              "    .dataframe tbody tr th:only-of-type {\n",
              "        vertical-align: middle;\n",
              "    }\n",
              "\n",
              "    .dataframe tbody tr th {\n",
              "        vertical-align: top;\n",
              "    }\n",
              "\n",
              "    .dataframe thead th {\n",
              "        text-align: right;\n",
              "    }\n",
              "</style>\n",
              "<table border=\"1\" class=\"dataframe\">\n",
              "  <thead>\n",
              "    <tr style=\"text-align: right;\">\n",
              "      <th></th>\n",
              "      <th>Count</th>\n",
              "      <th>Percentage</th>\n",
              "    </tr>\n",
              "  </thead>\n",
              "  <tbody>\n",
              "    <tr>\n",
              "      <th>rating</th>\n",
              "      <td>736</td>\n",
              "      <td>38.777661</td>\n",
              "    </tr>\n",
              "  </tbody>\n",
              "</table>\n",
              "</div>"
            ],
            "text/plain": [
              "        Count  Percentage\n",
              "rating    736   38.777661"
            ]
          },
          "execution_count": 13,
          "metadata": {},
          "output_type": "execute_result"
        }
      ],
      "source": [
        "# Anaylising the % of missing values from the variable \n",
        "pd.DataFrame({'Count':df.isnull().sum()[df.isnull().sum()>0],'Percentage':(df.isnull().sum()[df.isnull().sum()>0]/df.shape[0])*100})   "
      ]
    },
    {
      "cell_type": "markdown",
      "metadata": {
        "id": "FbHAvoeVbr8s"
      },
      "source": [
        "* Missing values represent 39% of the observations. It would no be right to eliminate them. "
      ]
    },
    {
      "cell_type": "code",
      "execution_count": null,
      "metadata": {
        "id": "M4lZpdvzbr8s",
        "outputId": "5f65e882-6927-4b27-fd8e-e44b27f75725"
      },
      "outputs": [
        {
          "data": {
            "text/plain": [
              "American          216\n",
              "Japanese          197\n",
              "Italian           126\n",
              "Chinese            82\n",
              "Mexican            29\n",
              "Indian             23\n",
              "Middle Eastern     15\n",
              "Mediterranean      14\n",
              "Thai               10\n",
              "French              8\n",
              "Spanish             6\n",
              "Korean              4\n",
              "Southern            4\n",
              "Vietnamese          2\n",
              "Name: cuisine_type, dtype: int64"
            ]
          },
          "execution_count": 14,
          "metadata": {},
          "output_type": "execute_result"
        }
      ],
      "source": [
        "df.loc[df['rating'].isnull()==True,'cuisine_type'].value_counts(dropna=False)"
      ]
    },
    {
      "cell_type": "code",
      "execution_count": null,
      "metadata": {
        "id": "wU3WkP-5br8t"
      },
      "outputs": [],
      "source": [
        "df['rating'] = df['rating'].fillna(df['rating'].mode()[0])"
      ]
    },
    {
      "cell_type": "code",
      "execution_count": null,
      "metadata": {
        "id": "HWOPoe4rbr8t",
        "outputId": "f97d9614-b5b0-413c-cff7-cd893eaf1a05"
      },
      "outputs": [
        {
          "data": {
            "text/html": [
              "<div>\n",
              "<style scoped>\n",
              "    .dataframe tbody tr th:only-of-type {\n",
              "        vertical-align: middle;\n",
              "    }\n",
              "\n",
              "    .dataframe tbody tr th {\n",
              "        vertical-align: top;\n",
              "    }\n",
              "\n",
              "    .dataframe thead th {\n",
              "        text-align: right;\n",
              "    }\n",
              "</style>\n",
              "<table border=\"1\" class=\"dataframe\">\n",
              "  <thead>\n",
              "    <tr style=\"text-align: right;\">\n",
              "      <th></th>\n",
              "      <th>Count</th>\n",
              "      <th>Percentage</th>\n",
              "    </tr>\n",
              "  </thead>\n",
              "  <tbody>\n",
              "  </tbody>\n",
              "</table>\n",
              "</div>"
            ],
            "text/plain": [
              "Empty DataFrame\n",
              "Columns: [Count, Percentage]\n",
              "Index: []"
            ]
          },
          "execution_count": 16,
          "metadata": {},
          "output_type": "execute_result"
        }
      ],
      "source": [
        "pd.DataFrame({'Count':df.isnull().sum()[df.isnull().sum()>0],'Percentage':(df.isnull().sum()[df.isnull().sum()>0]/df.shape[0])*100})   "
      ]
    },
    {
      "cell_type": "code",
      "execution_count": null,
      "metadata": {
        "id": "ZRo4Ih6Bbr8u",
        "outputId": "0febd1dd-3473-4dd6-885c-00ccd28f1949"
      },
      "outputs": [
        {
          "data": {
            "text/plain": [
              "order_id                 0\n",
              "customer_id              0\n",
              "restaurant_name          0\n",
              "cuisine_type             0\n",
              "cost_of_the_order        0\n",
              "day_of_the_week          0\n",
              "rating                   0\n",
              "food_preparation_time    0\n",
              "delivery_time            0\n",
              "dtype: int64"
            ]
          },
          "execution_count": 17,
          "metadata": {},
          "output_type": "execute_result"
        }
      ],
      "source": [
        "df.isnull().sum()"
      ]
    },
    {
      "cell_type": "code",
      "execution_count": null,
      "metadata": {
        "id": "ciaCnyRabr8v"
      },
      "outputs": [],
      "source": [
        "df['rating'] = df['rating'].astype(int)"
      ]
    },
    {
      "cell_type": "code",
      "execution_count": null,
      "metadata": {
        "id": "JMlW0fPmbr8v",
        "outputId": "95541c73-7a54-4698-d1dc-e21a9223991b"
      },
      "outputs": [
        {
          "name": "stdout",
          "output_type": "stream",
          "text": [
            "4.598524762908324\n",
            "0    5\n",
            "dtype: int64\n",
            "5.0\n"
          ]
        }
      ],
      "source": [
        "print(df['rating'].mean())\n",
        "print(df['rating'].mode())\n",
        "print(df['rating'].median())"
      ]
    },
    {
      "cell_type": "markdown",
      "metadata": {
        "id": "j4ZzE9_nbr8w"
      },
      "source": [
        "* Central tendency measures did not change for the median and mode, however, the mean has a slight change from 4.34 to 4.59."
      ]
    },
    {
      "cell_type": "markdown",
      "metadata": {
        "id": "MnJo7MWrJY_S"
      },
      "source": [
        "### **Question 4:** Check the statistical summary of the data. What is the minimum, average, and maximum time it takes for food to be prepared once an order is placed? [2 marks]"
      ]
    },
    {
      "cell_type": "code",
      "execution_count": null,
      "metadata": {
        "id": "WprQBgOSJY_T",
        "outputId": "83eca10e-df70-4d33-a98d-712c660e764c"
      },
      "outputs": [
        {
          "data": {
            "text/html": [
              "<div>\n",
              "<style scoped>\n",
              "    .dataframe tbody tr th:only-of-type {\n",
              "        vertical-align: middle;\n",
              "    }\n",
              "\n",
              "    .dataframe tbody tr th {\n",
              "        vertical-align: top;\n",
              "    }\n",
              "\n",
              "    .dataframe thead th {\n",
              "        text-align: right;\n",
              "    }\n",
              "</style>\n",
              "<table border=\"1\" class=\"dataframe\">\n",
              "  <thead>\n",
              "    <tr style=\"text-align: right;\">\n",
              "      <th></th>\n",
              "      <th>count</th>\n",
              "      <th>unique</th>\n",
              "      <th>top</th>\n",
              "      <th>freq</th>\n",
              "      <th>mean</th>\n",
              "      <th>std</th>\n",
              "      <th>min</th>\n",
              "      <th>25%</th>\n",
              "      <th>50%</th>\n",
              "      <th>75%</th>\n",
              "      <th>max</th>\n",
              "    </tr>\n",
              "  </thead>\n",
              "  <tbody>\n",
              "    <tr>\n",
              "      <th>order_id</th>\n",
              "      <td>1898.0</td>\n",
              "      <td>NaN</td>\n",
              "      <td>NaN</td>\n",
              "      <td>NaN</td>\n",
              "      <td>1477495.5</td>\n",
              "      <td>548.049724</td>\n",
              "      <td>1476547.0</td>\n",
              "      <td>1477021.25</td>\n",
              "      <td>1477495.5</td>\n",
              "      <td>1477969.75</td>\n",
              "      <td>1478444.0</td>\n",
              "    </tr>\n",
              "    <tr>\n",
              "      <th>customer_id</th>\n",
              "      <td>1898.0</td>\n",
              "      <td>NaN</td>\n",
              "      <td>NaN</td>\n",
              "      <td>NaN</td>\n",
              "      <td>171168.478398</td>\n",
              "      <td>113698.139743</td>\n",
              "      <td>1311.0</td>\n",
              "      <td>77787.75</td>\n",
              "      <td>128600.0</td>\n",
              "      <td>270525.0</td>\n",
              "      <td>405334.0</td>\n",
              "    </tr>\n",
              "    <tr>\n",
              "      <th>restaurant_name</th>\n",
              "      <td>1898</td>\n",
              "      <td>178</td>\n",
              "      <td>Shake Shack</td>\n",
              "      <td>219</td>\n",
              "      <td>NaN</td>\n",
              "      <td>NaN</td>\n",
              "      <td>NaN</td>\n",
              "      <td>NaN</td>\n",
              "      <td>NaN</td>\n",
              "      <td>NaN</td>\n",
              "      <td>NaN</td>\n",
              "    </tr>\n",
              "    <tr>\n",
              "      <th>cuisine_type</th>\n",
              "      <td>1898</td>\n",
              "      <td>14</td>\n",
              "      <td>American</td>\n",
              "      <td>584</td>\n",
              "      <td>NaN</td>\n",
              "      <td>NaN</td>\n",
              "      <td>NaN</td>\n",
              "      <td>NaN</td>\n",
              "      <td>NaN</td>\n",
              "      <td>NaN</td>\n",
              "      <td>NaN</td>\n",
              "    </tr>\n",
              "    <tr>\n",
              "      <th>cost_of_the_order</th>\n",
              "      <td>1898.0</td>\n",
              "      <td>NaN</td>\n",
              "      <td>NaN</td>\n",
              "      <td>NaN</td>\n",
              "      <td>16.498851</td>\n",
              "      <td>7.483812</td>\n",
              "      <td>4.47</td>\n",
              "      <td>12.08</td>\n",
              "      <td>14.14</td>\n",
              "      <td>22.2975</td>\n",
              "      <td>35.41</td>\n",
              "    </tr>\n",
              "    <tr>\n",
              "      <th>day_of_the_week</th>\n",
              "      <td>1898</td>\n",
              "      <td>2</td>\n",
              "      <td>Weekend</td>\n",
              "      <td>1351</td>\n",
              "      <td>NaN</td>\n",
              "      <td>NaN</td>\n",
              "      <td>NaN</td>\n",
              "      <td>NaN</td>\n",
              "      <td>NaN</td>\n",
              "      <td>NaN</td>\n",
              "      <td>NaN</td>\n",
              "    </tr>\n",
              "    <tr>\n",
              "      <th>rating</th>\n",
              "      <td>1898.0</td>\n",
              "      <td>NaN</td>\n",
              "      <td>NaN</td>\n",
              "      <td>NaN</td>\n",
              "      <td>4.598525</td>\n",
              "      <td>0.662289</td>\n",
              "      <td>3.0</td>\n",
              "      <td>4.0</td>\n",
              "      <td>5.0</td>\n",
              "      <td>5.0</td>\n",
              "      <td>5.0</td>\n",
              "    </tr>\n",
              "    <tr>\n",
              "      <th>food_preparation_time</th>\n",
              "      <td>1898.0</td>\n",
              "      <td>NaN</td>\n",
              "      <td>NaN</td>\n",
              "      <td>NaN</td>\n",
              "      <td>27.37197</td>\n",
              "      <td>4.632481</td>\n",
              "      <td>20.0</td>\n",
              "      <td>23.0</td>\n",
              "      <td>27.0</td>\n",
              "      <td>31.0</td>\n",
              "      <td>35.0</td>\n",
              "    </tr>\n",
              "    <tr>\n",
              "      <th>delivery_time</th>\n",
              "      <td>1898.0</td>\n",
              "      <td>NaN</td>\n",
              "      <td>NaN</td>\n",
              "      <td>NaN</td>\n",
              "      <td>24.161749</td>\n",
              "      <td>4.972637</td>\n",
              "      <td>15.0</td>\n",
              "      <td>20.0</td>\n",
              "      <td>25.0</td>\n",
              "      <td>28.0</td>\n",
              "      <td>33.0</td>\n",
              "    </tr>\n",
              "  </tbody>\n",
              "</table>\n",
              "</div>"
            ],
            "text/plain": [
              "                        count unique          top  freq           mean  \\\n",
              "order_id               1898.0    NaN          NaN   NaN      1477495.5   \n",
              "customer_id            1898.0    NaN          NaN   NaN  171168.478398   \n",
              "restaurant_name          1898    178  Shake Shack   219            NaN   \n",
              "cuisine_type             1898     14     American   584            NaN   \n",
              "cost_of_the_order      1898.0    NaN          NaN   NaN      16.498851   \n",
              "day_of_the_week          1898      2      Weekend  1351            NaN   \n",
              "rating                 1898.0    NaN          NaN   NaN       4.598525   \n",
              "food_preparation_time  1898.0    NaN          NaN   NaN       27.37197   \n",
              "delivery_time          1898.0    NaN          NaN   NaN      24.161749   \n",
              "\n",
              "                                 std        min         25%        50%  \\\n",
              "order_id                  548.049724  1476547.0  1477021.25  1477495.5   \n",
              "customer_id            113698.139743     1311.0    77787.75   128600.0   \n",
              "restaurant_name                  NaN        NaN         NaN        NaN   \n",
              "cuisine_type                     NaN        NaN         NaN        NaN   \n",
              "cost_of_the_order           7.483812       4.47       12.08      14.14   \n",
              "day_of_the_week                  NaN        NaN         NaN        NaN   \n",
              "rating                      0.662289        3.0         4.0        5.0   \n",
              "food_preparation_time       4.632481       20.0        23.0       27.0   \n",
              "delivery_time               4.972637       15.0        20.0       25.0   \n",
              "\n",
              "                              75%        max  \n",
              "order_id               1477969.75  1478444.0  \n",
              "customer_id              270525.0   405334.0  \n",
              "restaurant_name               NaN        NaN  \n",
              "cuisine_type                  NaN        NaN  \n",
              "cost_of_the_order         22.2975      35.41  \n",
              "day_of_the_week               NaN        NaN  \n",
              "rating                        5.0        5.0  \n",
              "food_preparation_time        31.0       35.0  \n",
              "delivery_time                28.0       33.0  "
            ]
          },
          "execution_count": 20,
          "metadata": {},
          "output_type": "execute_result"
        }
      ],
      "source": [
        "df.describe(include = \"all\").T"
      ]
    },
    {
      "cell_type": "markdown",
      "metadata": {
        "id": "9YbSOR5wJY_T"
      },
      "source": [
        "#### Observations:\n",
        "* Restaurant: There are 178 restaurants where people have ordered from. The most popular to order is Shake Shack with 11.5% of the frequency.\n",
        "* Cuisine type: There are 14 different cuisine types, and \"American\" food is the most popular with 30% of the orders being from this type of restaurant. \n",
        "* Cost of the order: The average price of an order is 16.50 USD, while 75% of them cost $22.30 USD or above. \n",
        "* Day of the week: The weekends is the most popular time of the week to place an order through the app since it has 71% of the orders placed.\n",
        "* Rating: Minimum rating is 3 and the maximum rating point is 5. The average rating grade is 4.59 and 25% of the orders have rating bellow 4.  \n",
        "* Food preparation time: On average food takes around 27 min to be prepared before delivery. The average and the mean are almost the same.  75% of the orders are prepared 31 minutes or less. \n",
        "* Delivery time: The average delivery time is 24 minutes and the longest waiting time was in 33 minutes. The average and the median are almost the same. "
      ]
    },
    {
      "cell_type": "markdown",
      "metadata": {
        "id": "cw3l58z_JY_T"
      },
      "source": [
        "### **Question 5:** How many orders are not rated? [1 mark]"
      ]
    },
    {
      "cell_type": "code",
      "execution_count": null,
      "metadata": {
        "id": "Zth-RR1PJY_S",
        "outputId": "fe513c1b-2b6d-476a-8225-b47da4700ddd"
      },
      "outputs": [
        {
          "data": {
            "text/plain": [
              "order_id                 0\n",
              "customer_id              0\n",
              "restaurant_name          0\n",
              "cuisine_type             0\n",
              "cost_of_the_order        0\n",
              "day_of_the_week          0\n",
              "rating                   0\n",
              "food_preparation_time    0\n",
              "delivery_time            0\n",
              "dtype: int64"
            ]
          },
          "execution_count": 21,
          "metadata": {},
          "output_type": "execute_result"
        }
      ],
      "source": [
        "#Adding missing values from each variable\n",
        "df.isnull().sum()"
      ]
    },
    {
      "cell_type": "markdown",
      "metadata": {
        "id": "jDHT3vD1JY_S"
      },
      "source": [
        "#### Observations:\n",
        "* There were 736 missing values in this data set corresponding to \"rating\" but were treated in question 3."
      ]
    },
    {
      "cell_type": "markdown",
      "metadata": {
        "id": "7msIfXE-JY_T"
      },
      "source": [
        "### Exploratory Data Analysis (EDA)"
      ]
    },
    {
      "cell_type": "markdown",
      "metadata": {
        "id": "-2xfI28YJY_T"
      },
      "source": [
        "### Univariate Analysis"
      ]
    },
    {
      "cell_type": "markdown",
      "metadata": {
        "id": "0RHZnugBJY_U"
      },
      "source": [
        "### **Question 6:** Explore all the variables and provide observations on their distributions. (Generally, histograms, boxplots, countplots, etc. are used for univariate exploration.) [9 marks]"
      ]
    },
    {
      "cell_type": "markdown",
      "metadata": {
        "id": "rU5ZqISjJY_U"
      },
      "source": [
        "#### Exploration of the categorical variables"
      ]
    },
    {
      "cell_type": "code",
      "execution_count": null,
      "metadata": {
        "id": "gZTugU27br86",
        "outputId": "c6efaf84-5285-4f33-bc4a-3345b45f1edc"
      },
      "outputs": [
        {
          "data": {
            "text/plain": [
              "Shake Shack                  219\n",
              "The Meatball Shop            132\n",
              "Blue Ribbon Sushi            119\n",
              "Blue Ribbon Fried Chicken     96\n",
              "Parm                          68\n",
              "                            ... \n",
              "Sushi Choshi                   1\n",
              "Dos Caminos Soho               1\n",
              "La Follia                      1\n",
              "Philippe Chow                  1\n",
              "'wichcraft                     1\n",
              "Name: restaurant_name, Length: 178, dtype: int64"
            ]
          },
          "execution_count": 22,
          "metadata": {},
          "output_type": "execute_result"
        }
      ],
      "source": [
        "df[\"restaurant_name\"].value_counts()"
      ]
    },
    {
      "cell_type": "code",
      "execution_count": null,
      "metadata": {
        "id": "OxYxaoeabr87",
        "outputId": "ce57869b-913c-43cf-cd31-31ead2223d7c"
      },
      "outputs": [
        {
          "data": {
            "text/plain": [
              "Shake Shack                  11.538462\n",
              "The Meatball Shop             6.954689\n",
              "Blue Ribbon Sushi             6.269758\n",
              "Blue Ribbon Fried Chicken     5.057956\n",
              "Parm                          3.582719\n",
              "                               ...    \n",
              "Sushi Choshi                  0.052687\n",
              "Dos Caminos Soho              0.052687\n",
              "La Follia                     0.052687\n",
              "Philippe Chow                 0.052687\n",
              "'wichcraft                    0.052687\n",
              "Name: restaurant_name, Length: 178, dtype: float64"
            ]
          },
          "execution_count": 23,
          "metadata": {},
          "output_type": "execute_result"
        }
      ],
      "source": [
        "# The percentage of orders that each restaurant represents from the total amount of orders.\n",
        "df['restaurant_name'].value_counts(normalize=True) * 100"
      ]
    },
    {
      "cell_type": "markdown",
      "metadata": {
        "id": "i9yKbHpmbr88"
      },
      "source": [
        "* There are 178 different restaurants in this data set.\n",
        "* The most popular restaurants to order from: Shake Shack with 219 orders, The Meatball Shop with 132, Blue Ribbon Sushi with 119, Blue Ribbon Fried Chicken with 96, and Parm with 68 orders.\n",
        "* This restaurants represent 11%, 6.9%,6.2%, 5% and 3.6% of the total number of orders. "
      ]
    },
    {
      "cell_type": "code",
      "execution_count": null,
      "metadata": {
        "id": "Pc0SI_sLbr88",
        "outputId": "b598f887-ab8b-4ae9-f7e4-d9fd6cbac9e2"
      },
      "outputs": [
        {
          "data": {
            "text/html": [
              "<div>\n",
              "<style scoped>\n",
              "    .dataframe tbody tr th:only-of-type {\n",
              "        vertical-align: middle;\n",
              "    }\n",
              "\n",
              "    .dataframe tbody tr th {\n",
              "        vertical-align: top;\n",
              "    }\n",
              "\n",
              "    .dataframe thead th {\n",
              "        text-align: right;\n",
              "    }\n",
              "</style>\n",
              "<table border=\"1\" class=\"dataframe\">\n",
              "  <thead>\n",
              "    <tr style=\"text-align: right;\">\n",
              "      <th></th>\n",
              "      <th>order_id</th>\n",
              "      <th>customer_id</th>\n",
              "      <th>cuisine_type</th>\n",
              "      <th>cost_of_the_order</th>\n",
              "      <th>day_of_the_week</th>\n",
              "      <th>rating</th>\n",
              "      <th>food_preparation_time</th>\n",
              "      <th>delivery_time</th>\n",
              "    </tr>\n",
              "    <tr>\n",
              "      <th>restaurant_name</th>\n",
              "      <th></th>\n",
              "      <th></th>\n",
              "      <th></th>\n",
              "      <th></th>\n",
              "      <th></th>\n",
              "      <th></th>\n",
              "      <th></th>\n",
              "      <th></th>\n",
              "    </tr>\n",
              "  </thead>\n",
              "  <tbody>\n",
              "    <tr>\n",
              "      <th>Shake Shack</th>\n",
              "      <td>219</td>\n",
              "      <td>219</td>\n",
              "      <td>219</td>\n",
              "      <td>219</td>\n",
              "      <td>219</td>\n",
              "      <td>219</td>\n",
              "      <td>219</td>\n",
              "      <td>219</td>\n",
              "    </tr>\n",
              "    <tr>\n",
              "      <th>The Meatball Shop</th>\n",
              "      <td>132</td>\n",
              "      <td>132</td>\n",
              "      <td>132</td>\n",
              "      <td>132</td>\n",
              "      <td>132</td>\n",
              "      <td>132</td>\n",
              "      <td>132</td>\n",
              "      <td>132</td>\n",
              "    </tr>\n",
              "    <tr>\n",
              "      <th>Blue Ribbon Sushi</th>\n",
              "      <td>119</td>\n",
              "      <td>119</td>\n",
              "      <td>119</td>\n",
              "      <td>119</td>\n",
              "      <td>119</td>\n",
              "      <td>119</td>\n",
              "      <td>119</td>\n",
              "      <td>119</td>\n",
              "    </tr>\n",
              "    <tr>\n",
              "      <th>Blue Ribbon Fried Chicken</th>\n",
              "      <td>96</td>\n",
              "      <td>96</td>\n",
              "      <td>96</td>\n",
              "      <td>96</td>\n",
              "      <td>96</td>\n",
              "      <td>96</td>\n",
              "      <td>96</td>\n",
              "      <td>96</td>\n",
              "    </tr>\n",
              "    <tr>\n",
              "      <th>Parm</th>\n",
              "      <td>68</td>\n",
              "      <td>68</td>\n",
              "      <td>68</td>\n",
              "      <td>68</td>\n",
              "      <td>68</td>\n",
              "      <td>68</td>\n",
              "      <td>68</td>\n",
              "      <td>68</td>\n",
              "    </tr>\n",
              "    <tr>\n",
              "      <th>RedFarm Broadway</th>\n",
              "      <td>59</td>\n",
              "      <td>59</td>\n",
              "      <td>59</td>\n",
              "      <td>59</td>\n",
              "      <td>59</td>\n",
              "      <td>59</td>\n",
              "      <td>59</td>\n",
              "      <td>59</td>\n",
              "    </tr>\n",
              "    <tr>\n",
              "      <th>RedFarm Hudson</th>\n",
              "      <td>55</td>\n",
              "      <td>55</td>\n",
              "      <td>55</td>\n",
              "      <td>55</td>\n",
              "      <td>55</td>\n",
              "      <td>55</td>\n",
              "      <td>55</td>\n",
              "      <td>55</td>\n",
              "    </tr>\n",
              "    <tr>\n",
              "      <th>TAO</th>\n",
              "      <td>49</td>\n",
              "      <td>49</td>\n",
              "      <td>49</td>\n",
              "      <td>49</td>\n",
              "      <td>49</td>\n",
              "      <td>49</td>\n",
              "      <td>49</td>\n",
              "      <td>49</td>\n",
              "    </tr>\n",
              "    <tr>\n",
              "      <th>Han Dynasty</th>\n",
              "      <td>46</td>\n",
              "      <td>46</td>\n",
              "      <td>46</td>\n",
              "      <td>46</td>\n",
              "      <td>46</td>\n",
              "      <td>46</td>\n",
              "      <td>46</td>\n",
              "      <td>46</td>\n",
              "    </tr>\n",
              "    <tr>\n",
              "      <th>Blue Ribbon Sushi Bar &amp; Grill</th>\n",
              "      <td>44</td>\n",
              "      <td>44</td>\n",
              "      <td>44</td>\n",
              "      <td>44</td>\n",
              "      <td>44</td>\n",
              "      <td>44</td>\n",
              "      <td>44</td>\n",
              "      <td>44</td>\n",
              "    </tr>\n",
              "  </tbody>\n",
              "</table>\n",
              "</div>"
            ],
            "text/plain": [
              "                               order_id  customer_id  cuisine_type  \\\n",
              "restaurant_name                                                      \n",
              "Shake Shack                         219          219           219   \n",
              "The Meatball Shop                   132          132           132   \n",
              "Blue Ribbon Sushi                   119          119           119   \n",
              "Blue Ribbon Fried Chicken            96           96            96   \n",
              "Parm                                 68           68            68   \n",
              "RedFarm Broadway                     59           59            59   \n",
              "RedFarm Hudson                       55           55            55   \n",
              "TAO                                  49           49            49   \n",
              "Han Dynasty                          46           46            46   \n",
              "Blue Ribbon Sushi Bar & Grill        44           44            44   \n",
              "\n",
              "                               cost_of_the_order  day_of_the_week  rating  \\\n",
              "restaurant_name                                                             \n",
              "Shake Shack                                  219              219     219   \n",
              "The Meatball Shop                            132              132     132   \n",
              "Blue Ribbon Sushi                            119              119     119   \n",
              "Blue Ribbon Fried Chicken                     96               96      96   \n",
              "Parm                                          68               68      68   \n",
              "RedFarm Broadway                              59               59      59   \n",
              "RedFarm Hudson                                55               55      55   \n",
              "TAO                                           49               49      49   \n",
              "Han Dynasty                                   46               46      46   \n",
              "Blue Ribbon Sushi Bar & Grill                 44               44      44   \n",
              "\n",
              "                               food_preparation_time  delivery_time  \n",
              "restaurant_name                                                      \n",
              "Shake Shack                                      219            219  \n",
              "The Meatball Shop                                132            132  \n",
              "Blue Ribbon Sushi                                119            119  \n",
              "Blue Ribbon Fried Chicken                         96             96  \n",
              "Parm                                              68             68  \n",
              "RedFarm Broadway                                  59             59  \n",
              "RedFarm Hudson                                    55             55  \n",
              "TAO                                               49             49  \n",
              "Han Dynasty                                       46             46  \n",
              "Blue Ribbon Sushi Bar & Grill                     44             44  "
            ]
          },
          "execution_count": 24,
          "metadata": {},
          "output_type": "execute_result"
        }
      ],
      "source": [
        "# Graphing top 10 restaurants from where people order the most\n",
        "top_10 = df.groupby('restaurant_name').count().sort_values(by='order_id',ascending=False).head(10)\n",
        "top_10"
      ]
    },
    {
      "cell_type": "code",
      "execution_count": null,
      "metadata": {
        "id": "q_Oapxlebr89"
      },
      "outputs": [],
      "source": [
        "top_10.reset_index(inplace=True)"
      ]
    },
    {
      "cell_type": "code",
      "execution_count": null,
      "metadata": {
        "id": "XNfE9Fr4br89",
        "outputId": "fe3cc4ea-52c5-4b1c-8220-69d0c7eaa964"
      },
      "outputs": [
        {
          "data": {
            "image/png": "[encoded data removed]",
            "text/plain": [
              "<Figure size 360x360 with 1 Axes>"
            ]
          },
          "metadata": {
            "needs_background": "light"
          },
          "output_type": "display_data"
        },
        {
          "data": {
            "text/plain": [
              "<Figure size 2160x720 with 0 Axes>"
            ]
          },
          "metadata": {},
          "output_type": "display_data"
        }
      ],
      "source": [
        "sns.catplot(data=top_10, x= \"restaurant_name\", y = 'order_id', kind = 'bar')\n",
        "plt.title('Count plot: Top 10 restaurants')\n",
        "plt.ylabel('Food orders') \n",
        "plt.xlabel('Restaurant name') \n",
        "plt.xticks(rotation=90)\n",
        "plt.figure(figsize=(30,10));\n"
      ]
    },
    {
      "cell_type": "code",
      "execution_count": null,
      "metadata": {
        "id": "9bJEcMh9br8-",
        "outputId": "999a1228-e4c5-48d3-f445-1d5358942c1e"
      },
      "outputs": [
        {
          "data": {
            "image/png": "[encoded data removed]",
            "text/plain": [
              "<Figure size 432x288 with 1 Axes>"
            ]
          },
          "metadata": {
            "needs_background": "light"
          },
          "output_type": "display_data"
        }
      ],
      "source": [
        "# Cuisine type\n",
        "sns.countplot(data= df, x = \"cuisine_type\")\n",
        "plt.title('Count plot: Cuisine type')\n",
        "plt.xticks(rotation=90)\n",
        "plt.show();"
      ]
    },
    {
      "cell_type": "code",
      "execution_count": null,
      "metadata": {
        "id": "4bajh3NRbr8_",
        "outputId": "5d604775-9316-4edc-d670-fea3e0cab9d4"
      },
      "outputs": [
        {
          "data": {
            "text/plain": [
              "American          584\n",
              "Japanese          470\n",
              "Italian           298\n",
              "Chinese           215\n",
              "Mexican            77\n",
              "Indian             73\n",
              "Middle Eastern     49\n",
              "Mediterranean      46\n",
              "Thai               19\n",
              "French             18\n",
              "Southern           17\n",
              "Korean             13\n",
              "Spanish            12\n",
              "Vietnamese          7\n",
              "Name: cuisine_type, dtype: int64"
            ]
          },
          "execution_count": 28,
          "metadata": {},
          "output_type": "execute_result"
        }
      ],
      "source": [
        "df[\"cuisine_type\"].value_counts()"
      ]
    },
    {
      "cell_type": "markdown",
      "metadata": {
        "id": "lSKhSUmNbr9A"
      },
      "source": [
        "* There are 14 different cuisine types. American, Japanese, Italian and Chinese are the most popular.\n",
        "* A total of 584 orders were placed for American food, 470 for Japanese cuisine, 298 for Italian, and 215 for Chinese cuisine. "
      ]
    },
    {
      "cell_type": "code",
      "execution_count": null,
      "metadata": {
        "id": "3QXsEUJBbr9A",
        "outputId": "36f0e6f9-7292-4fcf-a600-6bf8549986ba"
      },
      "outputs": [
        {
          "data": {
            "image/png": "[encoded data removed]",
            "text/plain": [
              "<Figure size 432x288 with 1 Axes>"
            ]
          },
          "metadata": {
            "needs_background": "light"
          },
          "output_type": "display_data"
        }
      ],
      "source": [
        "# Day of the week\n",
        "sns.countplot(data= df, x = \"day_of_the_week\")\n",
        "plt.title('Count plot: Day of the week')\n",
        "plt.show();"
      ]
    },
    {
      "cell_type": "code",
      "execution_count": null,
      "metadata": {
        "id": "Xvt8zZFfbr9B",
        "outputId": "b8a1ec73-465a-4c9f-8968-26ab08902cc7"
      },
      "outputs": [
        {
          "name": "stdout",
          "output_type": "stream",
          "text": [
            "Weekend    1351\n",
            "Weekday     547\n",
            "Name: day_of_the_week, dtype: int64\n",
            "Weekend    0.711802\n",
            "Weekday    0.288198\n",
            "Name: day_of_the_week, dtype: float64\n"
          ]
        }
      ],
      "source": [
        "print(df[\"day_of_the_week\"].value_counts())\n",
        "print(df[\"day_of_the_week\"].value_counts(normalize = True))"
      ]
    },
    {
      "cell_type": "markdown",
      "metadata": {
        "id": "7A_-LPEbbr9B"
      },
      "source": [
        "* Weekends are the most popular days for people to order. People place 71% of the orders on weekends and just 28% en weekdays. "
      ]
    },
    {
      "cell_type": "markdown",
      "metadata": {
        "id": "3sGB496wbr9C"
      },
      "source": [
        "#### Exploration of numerical data"
      ]
    },
    {
      "cell_type": "code",
      "execution_count": null,
      "metadata": {
        "id": "plu2rg1Vbr9C",
        "outputId": "f6613289-45f5-4419-a828-c78f3c3387ad"
      },
      "outputs": [
        {
          "data": {
            "image/png": "[encoded data removed]",
            "text/plain": [
              "<Figure size 432x288 with 1 Axes>"
            ]
          },
          "metadata": {
            "needs_background": "light"
          },
          "output_type": "display_data"
        }
      ],
      "source": [
        "# Cost of the order\n",
        "plt.title('Boxplot: Cost of the order')\n",
        "sns.boxplot(data = df, x = 'cost_of_the_order', color = 'green');"
      ]
    },
    {
      "cell_type": "markdown",
      "metadata": {
        "id": "UDVqHmmXbr9D"
      },
      "source": [
        "* The median cost of an order is around 14.50 USD."
      ]
    },
    {
      "cell_type": "code",
      "execution_count": null,
      "metadata": {
        "id": "N6vMldqFbr9E",
        "outputId": "0a3df467-1c4c-42a4-cb87-368c48b45a1d"
      },
      "outputs": [
        {
          "data": {
            "image/png": "[encoded data removed]",
            "text/plain": [
              "<Figure size 432x288 with 1 Axes>"
            ]
          },
          "metadata": {
            "needs_background": "light"
          },
          "output_type": "display_data"
        }
      ],
      "source": [
        "plt.title('Histogram: Cost of the order')\n",
        "sns.histplot(data = df, x = 'cost_of_the_order', color = 'green');"
      ]
    },
    {
      "cell_type": "markdown",
      "metadata": {
        "id": "0l6eR9l7br9F"
      },
      "source": [
        "* Most of the orders cost about 11-12 USD. "
      ]
    },
    {
      "cell_type": "code",
      "execution_count": null,
      "metadata": {
        "id": "FGEzrl7qbr9F",
        "outputId": "3a597f9a-0b2f-4b1d-ad33-42db6f526059"
      },
      "outputs": [
        {
          "data": {
            "image/png": "[encoded data removed]",
            "text/plain": [
              "<Figure size 360x360 with 1 Axes>"
            ]
          },
          "metadata": {
            "needs_background": "light"
          },
          "output_type": "display_data"
        }
      ],
      "source": [
        "sns.displot(data=df,x= 'cost_of_the_order',kind='kde', color = 'green')\n",
        "plt.title('Distribution: Cost of the order');"
      ]
    },
    {
      "cell_type": "markdown",
      "metadata": {
        "id": "yeRL2g9sbr9G"
      },
      "source": [
        "* We can observe that cost of the order is multimodal:\n",
        "    1. 12 USD\n",
        "    2. 24 USD\n",
        "    3. 30 USD"
      ]
    },
    {
      "cell_type": "code",
      "execution_count": null,
      "metadata": {
        "id": "Ct1na4bwbr9G",
        "outputId": "0a81d0b3-cac2-411a-cd6d-351cbc72a201"
      },
      "outputs": [
        {
          "data": {
            "image/png": "[encoded data removed]",
            "text/plain": [
              "<Figure size 432x288 with 1 Axes>"
            ]
          },
          "metadata": {
            "needs_background": "light"
          },
          "output_type": "display_data"
        }
      ],
      "source": [
        "# Analysing rating\n",
        "plt.title('Boxplot: Rating')\n",
        "sns.boxplot(data = df, x = 'rating', color = 'red');"
      ]
    },
    {
      "cell_type": "markdown",
      "metadata": {
        "id": "G4Nba0fFbr9H"
      },
      "source": [
        "The rating has a median of 5 and a maximal rating of 5. "
      ]
    },
    {
      "cell_type": "code",
      "execution_count": null,
      "metadata": {
        "id": "V5F5bj7Sbr9I",
        "outputId": "740d68b4-c901-4979-fee6-86be1ab5a802"
      },
      "outputs": [
        {
          "data": {
            "image/png": "[encoded data removed]",
            "text/plain": [
              "<Figure size 432x288 with 1 Axes>"
            ]
          },
          "metadata": {
            "needs_background": "light"
          },
          "output_type": "display_data"
        }
      ],
      "source": [
        "plt.title('Histogram: Rating')\n",
        "sns.histplot(data = df, x = 'rating', color = 'red');"
      ]
    },
    {
      "cell_type": "code",
      "execution_count": null,
      "metadata": {
        "id": "WUsuJDLObr9I",
        "outputId": "6da3f522-31a0-4fcd-fc3e-12b5541a099c"
      },
      "outputs": [
        {
          "data": {
            "text/plain": [
              "array([5, 3, 4])"
            ]
          },
          "execution_count": 36,
          "metadata": {},
          "output_type": "execute_result"
        }
      ],
      "source": [
        "df['rating'].unique()"
      ]
    },
    {
      "cell_type": "markdown",
      "metadata": {
        "id": "xS8p5YuObr9J"
      },
      "source": [
        "* There are only 3 types of rating scores: 3, 4 ,and 5."
      ]
    },
    {
      "cell_type": "code",
      "execution_count": null,
      "metadata": {
        "id": "f6shE2lSbr9J",
        "outputId": "e116d839-856d-44cd-b989-ff11d793738b"
      },
      "outputs": [
        {
          "data": {
            "image/png": "[encoded data removed]",
            "text/plain": [
              "<Figure size 360x360 with 1 Axes>"
            ]
          },
          "metadata": {
            "needs_background": "light"
          },
          "output_type": "display_data"
        }
      ],
      "source": [
        "sns.displot(data=df,x= 'rating',kind='kde', color = 'red')\n",
        "plt.title('Distribution: Rating');"
      ]
    },
    {
      "cell_type": "code",
      "execution_count": null,
      "metadata": {
        "id": "lgK1_zNYbr9K",
        "outputId": "d173ed2c-b3c7-4d7e-8fff-dcee7fdc5ecd"
      },
      "outputs": [
        {
          "data": {
            "image/png": "[encoded data removed]",
            "text/plain": [
              "<Figure size 432x288 with 1 Axes>"
            ]
          },
          "metadata": {
            "needs_background": "light"
          },
          "output_type": "display_data"
        }
      ],
      "source": [
        "# Analysing Food preparation time \n",
        "plt.title('Boxplot: Food preparation time')\n",
        "sns.boxplot(data = df, x = 'food_preparation_time', color = 'yellow');"
      ]
    },
    {
      "cell_type": "markdown",
      "metadata": {
        "id": "EucrBtLHbr9L"
      },
      "source": [
        "Food preparation time varies from 20 minutes to 35 minutes. The median preparation time is 27 minutes. "
      ]
    },
    {
      "cell_type": "code",
      "execution_count": null,
      "metadata": {
        "id": "3VVXnAJKbr9L",
        "outputId": "fe431c6f-c016-4089-8a4a-2e047f7bc055"
      },
      "outputs": [
        {
          "data": {
            "image/png": "[encoded data removed]",
            "text/plain": [
              "<Figure size 432x288 with 1 Axes>"
            ]
          },
          "metadata": {
            "needs_background": "light"
          },
          "output_type": "display_data"
        }
      ],
      "source": [
        "plt.title('Histogram: Food preparation time')\n",
        "sns.histplot(data = df, x = 'food_preparation_time', color = 'yellow');"
      ]
    },
    {
      "cell_type": "code",
      "execution_count": null,
      "metadata": {
        "id": "vyIez_xnbr9M",
        "outputId": "ecc561d2-e602-4742-e12f-40e497fd157d"
      },
      "outputs": [
        {
          "data": {
            "image/png": "[encoded data removed]",
            "text/plain": [
              "<Figure size 360x360 with 1 Axes>"
            ]
          },
          "metadata": {
            "needs_background": "light"
          },
          "output_type": "display_data"
        }
      ],
      "source": [
        "sns.displot(data=df,x= 'food_preparation_time',kind='kde', color = 'yellow')\n",
        "plt.title('Distribution: Food preparation time');"
      ]
    },
    {
      "cell_type": "code",
      "execution_count": null,
      "metadata": {
        "id": "KkJ1bFa_br9M",
        "outputId": "045efdc0-5b07-45fb-fda8-f89285b48005"
      },
      "outputs": [
        {
          "data": {
            "image/png": "[encoded data removed]",
            "text/plain": [
              "<Figure size 432x288 with 1 Axes>"
            ]
          },
          "metadata": {
            "needs_background": "light"
          },
          "output_type": "display_data"
        }
      ],
      "source": [
        "# Analysing Delivery time\n",
        "plt.title('Boxplot: Delivery time')\n",
        "sns.boxplot(data = df, x = 'delivery_time');"
      ]
    },
    {
      "cell_type": "markdown",
      "metadata": {
        "id": "p19RPeCEbr9N"
      },
      "source": [
        "Delivery time ranges from 15- 33 minutes. The median delivery time is 25 minutes. "
      ]
    },
    {
      "cell_type": "code",
      "execution_count": null,
      "metadata": {
        "id": "iwUmCmJebr9N",
        "outputId": "5c53e2f2-6222-48d4-bfd5-4304ee3b2df4"
      },
      "outputs": [
        {
          "data": {
            "image/png": "[encoded data removed]",
            "text/plain": [
              "<Figure size 432x288 with 1 Axes>"
            ]
          },
          "metadata": {
            "needs_background": "light"
          },
          "output_type": "display_data"
        }
      ],
      "source": [
        "plt.title('Histogram: Delivery time')\n",
        "sns.histplot(data = df, x = 'delivery_time', kde = True);"
      ]
    },
    {
      "cell_type": "markdown",
      "metadata": {
        "id": "5QGlZVizbr9O"
      },
      "source": [
        "* Delivery time is skewed to the left. "
      ]
    },
    {
      "cell_type": "code",
      "execution_count": null,
      "metadata": {
        "id": "vg15i341br9O",
        "outputId": "ebf57cb9-fb81-44c7-d0f6-510efc48b96d"
      },
      "outputs": [
        {
          "data": {
            "image/png": "[encoded data removed]",
            "text/plain": [
              "<Figure size 360x360 with 1 Axes>"
            ]
          },
          "metadata": {
            "needs_background": "light"
          },
          "output_type": "display_data"
        }
      ],
      "source": [
        "sns.displot(data=df,x= 'delivery_time',kind='kde')\n",
        "plt.title('Distribution: Delivery time');"
      ]
    },
    {
      "cell_type": "markdown",
      "metadata": {
        "id": "K9CqA5H_JY_U"
      },
      "source": [
        "### **Question 7**: Which are the top 5 restaurants in terms of the number of orders received? [1 mark]"
      ]
    },
    {
      "cell_type": "code",
      "execution_count": null,
      "metadata": {
        "id": "PaJZ3wlOJY_U",
        "outputId": "2136d64b-b2e9-4146-f205-c920559abfac"
      },
      "outputs": [
        {
          "data": {
            "text/plain": [
              "Shake Shack                  219\n",
              "The Meatball Shop            132\n",
              "Blue Ribbon Sushi            119\n",
              "Blue Ribbon Fried Chicken     96\n",
              "Parm                          68\n",
              "                            ... \n",
              "Sushi Choshi                   1\n",
              "Dos Caminos Soho               1\n",
              "La Follia                      1\n",
              "Philippe Chow                  1\n",
              "'wichcraft                     1\n",
              "Name: restaurant_name, Length: 178, dtype: int64"
            ]
          },
          "execution_count": 44,
          "metadata": {},
          "output_type": "execute_result"
        }
      ],
      "source": [
        "df[\"restaurant_name\"].value_counts()"
      ]
    },
    {
      "cell_type": "markdown",
      "metadata": {
        "id": "tnjhWgUfJY_U"
      },
      "source": [
        "#### Observations:\n",
        "The top 5 restaurants with the most orders received are Shake Shack, The Meatball Shop, Blue Ribbon Sushi, Blue Ribbon Fried Chicken, and Parm."
      ]
    },
    {
      "cell_type": "markdown",
      "metadata": {
        "id": "gWPMqGq0JY_U"
      },
      "source": [
        "### **Question 8**: Which is the most popular cuisine on weekends? [1 mark]"
      ]
    },
    {
      "cell_type": "code",
      "execution_count": null,
      "metadata": {
        "id": "AkBQo5aVbr9R",
        "outputId": "dc176890-7e52-4684-e0fc-7b6bd30e0d02"
      },
      "outputs": [
        {
          "data": {
            "image/png": "[encoded data removed]",
            "text/plain": [
              "<Figure size 432x288 with 1 Axes>"
            ]
          },
          "metadata": {
            "needs_background": "light"
          },
          "output_type": "display_data"
        }
      ],
      "source": [
        "# Graphing cuisine type and day of the week.\n",
        "sns.countplot(data = df, x = 'cuisine_type', hue = 'day_of_the_week')\n",
        "plt.xticks(rotation=90)\n",
        "plt.show();"
      ]
    },
    {
      "cell_type": "code",
      "execution_count": null,
      "metadata": {
        "id": "c-Xnus3VJY_U",
        "outputId": "40d16595-ef7f-4ebc-9b30-5a0be22e246c"
      },
      "outputs": [
        {
          "data": {
            "text/plain": [
              "cuisine_type    day_of_the_week\n",
              "American        Weekend            415\n",
              "                Weekday            169\n",
              "Chinese         Weekend            163\n",
              "                Weekday             52\n",
              "French          Weekend             13\n",
              "                Weekday              5\n",
              "Indian          Weekend             49\n",
              "                Weekday             24\n",
              "Italian         Weekend            207\n",
              "                Weekday             91\n",
              "Japanese        Weekend            335\n",
              "                Weekday            135\n",
              "Korean          Weekend             11\n",
              "                Weekday              2\n",
              "Mediterranean   Weekend             32\n",
              "                Weekday             14\n",
              "Mexican         Weekend             53\n",
              "                Weekday             24\n",
              "Middle Eastern  Weekend             32\n",
              "                Weekday             17\n",
              "Southern        Weekend             11\n",
              "                Weekday              6\n",
              "Spanish         Weekend             11\n",
              "                Weekday              1\n",
              "Thai            Weekend             15\n",
              "                Weekday              4\n",
              "Vietnamese      Weekend              4\n",
              "                Weekday              3\n",
              "Name: day_of_the_week, dtype: int64"
            ]
          },
          "execution_count": 46,
          "metadata": {},
          "output_type": "execute_result"
        }
      ],
      "source": [
        "df.groupby(by = ['cuisine_type'])['day_of_the_week'].value_counts()"
      ]
    },
    {
      "cell_type": "markdown",
      "metadata": {
        "id": "bpQ270TUJY_U"
      },
      "source": [
        "#### Observations:\n",
        "The most popular cuisine type on weekends is American food with a total of 415 orders. American food is also the most popular on weekdays with 169 orders."
      ]
    },
    {
      "cell_type": "markdown",
      "metadata": {
        "id": "88xgTqkxJY_U"
      },
      "source": [
        "### **Question 9**: What percentage of the orders cost more than 20 dollars? [2 marks]"
      ]
    },
    {
      "cell_type": "code",
      "execution_count": null,
      "metadata": {
        "id": "OTpHyTdzJY_U"
      },
      "outputs": [],
      "source": [
        "more_20 = df['cost_of_the_order'] > 20"
      ]
    },
    {
      "cell_type": "code",
      "execution_count": null,
      "metadata": {
        "id": "doe4XNBabr9T",
        "outputId": "85486c9c-844d-4c8d-b8f2-22600338eb8e"
      },
      "outputs": [
        {
          "data": {
            "text/plain": [
              "False    70.758693\n",
              "True     29.241307\n",
              "Name: cost_of_the_order, dtype: float64"
            ]
          },
          "execution_count": 48,
          "metadata": {},
          "output_type": "execute_result"
        }
      ],
      "source": [
        "# Percentages of orders that cost more than $20 USD\n",
        "more_20.value_counts(normalize = True)*100"
      ]
    },
    {
      "cell_type": "code",
      "execution_count": null,
      "metadata": {
        "id": "Tyt64ql-br9U",
        "outputId": "52186661-2907-4fdd-821a-1c9bd59b0f68"
      },
      "outputs": [
        {
          "data": {
            "text/plain": [
              "False    1343\n",
              "True      555\n",
              "Name: cost_of_the_order, dtype: int64"
            ]
          },
          "execution_count": 49,
          "metadata": {},
          "output_type": "execute_result"
        }
      ],
      "source": [
        "more_20.value_counts()"
      ]
    },
    {
      "cell_type": "markdown",
      "metadata": {
        "id": "77KNAC5zJY_U"
      },
      "source": [
        "#### Observations:\n",
        "* Almost 30% of the orders cost more than $20 USD."
      ]
    },
    {
      "cell_type": "markdown",
      "metadata": {
        "id": "HFyHn7hsJY_V"
      },
      "source": [
        "### **Question 10**: What is the mean order delivery time? [1 mark]"
      ]
    },
    {
      "cell_type": "code",
      "execution_count": null,
      "metadata": {
        "id": "cyFL13hNJY_V",
        "outputId": "4639bcda-75c8-4e8e-b5a0-0362e1594b0f"
      },
      "outputs": [
        {
          "data": {
            "text/plain": [
              "24.161749209694417"
            ]
          },
          "execution_count": 50,
          "metadata": {},
          "output_type": "execute_result"
        }
      ],
      "source": [
        "df['delivery_time'].mean()"
      ]
    },
    {
      "cell_type": "markdown",
      "metadata": {
        "id": "F35SRV-HJY_V"
      },
      "source": [
        "#### Observations:\n",
        "The mean order delivery time is 24.16 minutes. "
      ]
    },
    {
      "cell_type": "markdown",
      "metadata": {
        "id": "48IjaOuDJY_V"
      },
      "source": [
        "### **Question 11:** The company has decided to give 20% discount vouchers to the top 3 most frequent customers. Find the IDs of these customers and the number of orders they placed. [1 mark]"
      ]
    },
    {
      "cell_type": "code",
      "execution_count": null,
      "metadata": {
        "id": "Hz8-DE4Zge0j",
        "outputId": "8e6bb83b-859e-4562-9d1a-331cbf0287cf"
      },
      "outputs": [
        {
          "data": {
            "text/plain": [
              "52832     13\n",
              "47440     10\n",
              "83287      9\n",
              "250494     8\n",
              "259341     7\n",
              "          ..\n",
              "385426     1\n",
              "254913     1\n",
              "289597     1\n",
              "74412      1\n",
              "397537     1\n",
              "Name: customer_id, Length: 1200, dtype: int64"
            ]
          },
          "execution_count": 51,
          "metadata": {},
          "output_type": "execute_result"
        }
      ],
      "source": [
        "# Method 1: by counting customer_id unique values \n",
        "df['customer_id'].value_counts() "
      ]
    },
    {
      "cell_type": "code",
      "execution_count": null,
      "metadata": {
        "id": "Ai-Z7Lwtbr9X",
        "outputId": "5e0eb6ab-34e8-4ab2-da1e-4d4022b6b1ff"
      },
      "outputs": [
        {
          "data": {
            "text/html": [
              "<div>\n",
              "<style scoped>\n",
              "    .dataframe tbody tr th:only-of-type {\n",
              "        vertical-align: middle;\n",
              "    }\n",
              "\n",
              "    .dataframe tbody tr th {\n",
              "        vertical-align: top;\n",
              "    }\n",
              "\n",
              "    .dataframe thead th {\n",
              "        text-align: right;\n",
              "    }\n",
              "</style>\n",
              "<table border=\"1\" class=\"dataframe\">\n",
              "  <thead>\n",
              "    <tr style=\"text-align: right;\">\n",
              "      <th></th>\n",
              "      <th>order_id</th>\n",
              "    </tr>\n",
              "    <tr>\n",
              "      <th>customer_id</th>\n",
              "      <th></th>\n",
              "    </tr>\n",
              "  </thead>\n",
              "  <tbody>\n",
              "    <tr>\n",
              "      <th>52832</th>\n",
              "      <td>13</td>\n",
              "    </tr>\n",
              "    <tr>\n",
              "      <th>47440</th>\n",
              "      <td>10</td>\n",
              "    </tr>\n",
              "    <tr>\n",
              "      <th>83287</th>\n",
              "      <td>9</td>\n",
              "    </tr>\n",
              "    <tr>\n",
              "      <th>250494</th>\n",
              "      <td>8</td>\n",
              "    </tr>\n",
              "    <tr>\n",
              "      <th>65009</th>\n",
              "      <td>7</td>\n",
              "    </tr>\n",
              "    <tr>\n",
              "      <th>...</th>\n",
              "      <td>...</td>\n",
              "    </tr>\n",
              "    <tr>\n",
              "      <th>105903</th>\n",
              "      <td>1</td>\n",
              "    </tr>\n",
              "    <tr>\n",
              "      <th>105992</th>\n",
              "      <td>1</td>\n",
              "    </tr>\n",
              "    <tr>\n",
              "      <th>106006</th>\n",
              "      <td>1</td>\n",
              "    </tr>\n",
              "    <tr>\n",
              "      <th>106324</th>\n",
              "      <td>1</td>\n",
              "    </tr>\n",
              "    <tr>\n",
              "      <th>405334</th>\n",
              "      <td>1</td>\n",
              "    </tr>\n",
              "  </tbody>\n",
              "</table>\n",
              "<p>1200 rows × 1 columns</p>\n",
              "</div>"
            ],
            "text/plain": [
              "             order_id\n",
              "customer_id          \n",
              "52832              13\n",
              "47440              10\n",
              "83287               9\n",
              "250494              8\n",
              "65009               7\n",
              "...               ...\n",
              "105903              1\n",
              "105992              1\n",
              "106006              1\n",
              "106324              1\n",
              "405334              1\n",
              "\n",
              "[1200 rows x 1 columns]"
            ]
          },
          "execution_count": 52,
          "metadata": {},
          "output_type": "execute_result"
        }
      ],
      "source": [
        "# Method 2 by using function groupby\n",
        "orders_cost = df.groupby(['customer_id'])[['order_id']].count()\n",
        "\n",
        "orders_cost.sort_values(by = 'order_id', ascending=False)"
      ]
    },
    {
      "cell_type": "markdown",
      "metadata": {
        "id": "9tWVwfX6JY_V"
      },
      "source": [
        "#### Observations:\n",
        "Top 3 customers are: 52832 with 13 orders , 47440 with 10 orders and 83287 with 9 orders"
      ]
    },
    {
      "cell_type": "markdown",
      "metadata": {
        "id": "AfIc2jPaJY_V"
      },
      "source": [
        "### Multivariate Analysis"
      ]
    },
    {
      "cell_type": "markdown",
      "metadata": {
        "id": "iqiS0RT_JY_V"
      },
      "source": [
        "### **Question 12**: Perform a multivariate analysis to explore relationships between the important variables in the dataset. (It is a good idea to explore relations between numerical variables as well as relations between numerical and categorical variables) [10 marks]\n"
      ]
    },
    {
      "cell_type": "code",
      "execution_count": null,
      "metadata": {
        "id": "7z1v5e7xbr9a",
        "outputId": "2301dc0e-bb1d-4757-c1f5-cfe282f3a6c5"
      },
      "outputs": [
        {
          "data": {
            "text/html": [
              "<div>\n",
              "<style scoped>\n",
              "    .dataframe tbody tr th:only-of-type {\n",
              "        vertical-align: middle;\n",
              "    }\n",
              "\n",
              "    .dataframe tbody tr th {\n",
              "        vertical-align: top;\n",
              "    }\n",
              "\n",
              "    .dataframe thead th {\n",
              "        text-align: right;\n",
              "    }\n",
              "</style>\n",
              "<table border=\"1\" class=\"dataframe\">\n",
              "  <thead>\n",
              "    <tr style=\"text-align: right;\">\n",
              "      <th></th>\n",
              "      <th>order_id</th>\n",
              "      <th>customer_id</th>\n",
              "      <th>cost_of_the_order</th>\n",
              "      <th>rating</th>\n",
              "      <th>food_preparation_time</th>\n",
              "      <th>delivery_time</th>\n",
              "    </tr>\n",
              "  </thead>\n",
              "  <tbody>\n",
              "    <tr>\n",
              "      <th>order_id</th>\n",
              "      <td>1.000000</td>\n",
              "      <td>-0.013960</td>\n",
              "      <td>0.021171</td>\n",
              "      <td>-0.022405</td>\n",
              "      <td>-0.007026</td>\n",
              "      <td>0.009690</td>\n",
              "    </tr>\n",
              "    <tr>\n",
              "      <th>customer_id</th>\n",
              "      <td>-0.013960</td>\n",
              "      <td>1.000000</td>\n",
              "      <td>-0.001322</td>\n",
              "      <td>0.001239</td>\n",
              "      <td>-0.030330</td>\n",
              "      <td>-0.009885</td>\n",
              "    </tr>\n",
              "    <tr>\n",
              "      <th>cost_of_the_order</th>\n",
              "      <td>0.021171</td>\n",
              "      <td>-0.001322</td>\n",
              "      <td>1.000000</td>\n",
              "      <td>0.002335</td>\n",
              "      <td>0.041527</td>\n",
              "      <td>-0.029949</td>\n",
              "    </tr>\n",
              "    <tr>\n",
              "      <th>rating</th>\n",
              "      <td>-0.022405</td>\n",
              "      <td>0.001239</td>\n",
              "      <td>0.002335</td>\n",
              "      <td>1.000000</td>\n",
              "      <td>-0.005422</td>\n",
              "      <td>-0.005722</td>\n",
              "    </tr>\n",
              "    <tr>\n",
              "      <th>food_preparation_time</th>\n",
              "      <td>-0.007026</td>\n",
              "      <td>-0.030330</td>\n",
              "      <td>0.041527</td>\n",
              "      <td>-0.005422</td>\n",
              "      <td>1.000000</td>\n",
              "      <td>0.011094</td>\n",
              "    </tr>\n",
              "    <tr>\n",
              "      <th>delivery_time</th>\n",
              "      <td>0.009690</td>\n",
              "      <td>-0.009885</td>\n",
              "      <td>-0.029949</td>\n",
              "      <td>-0.005722</td>\n",
              "      <td>0.011094</td>\n",
              "      <td>1.000000</td>\n",
              "    </tr>\n",
              "  </tbody>\n",
              "</table>\n",
              "</div>"
            ],
            "text/plain": [
              "                       order_id  customer_id  cost_of_the_order    rating  \\\n",
              "order_id               1.000000    -0.013960           0.021171 -0.022405   \n",
              "customer_id           -0.013960     1.000000          -0.001322  0.001239   \n",
              "cost_of_the_order      0.021171    -0.001322           1.000000  0.002335   \n",
              "rating                -0.022405     0.001239           0.002335  1.000000   \n",
              "food_preparation_time -0.007026    -0.030330           0.041527 -0.005422   \n",
              "delivery_time          0.009690    -0.009885          -0.029949 -0.005722   \n",
              "\n",
              "                       food_preparation_time  delivery_time  \n",
              "order_id                           -0.007026       0.009690  \n",
              "customer_id                        -0.030330      -0.009885  \n",
              "cost_of_the_order                   0.041527      -0.029949  \n",
              "rating                             -0.005422      -0.005722  \n",
              "food_preparation_time               1.000000       0.011094  \n",
              "delivery_time                       0.011094       1.000000  "
            ]
          },
          "execution_count": 53,
          "metadata": {},
          "output_type": "execute_result"
        }
      ],
      "source": [
        "# We see the correlation between variables \n",
        "df.corr()"
      ]
    },
    {
      "cell_type": "code",
      "execution_count": null,
      "metadata": {
        "id": "3qt4MCNTJY_V",
        "outputId": "4a87eacb-22b3-4006-fa16-0cf4ddd4e9af"
      },
      "outputs": [
        {
          "data": {
            "image/png": "[encoded data removed]",
            "text/plain": [
              "<Figure size 720x360 with 2 Axes>"
            ]
          },
          "metadata": {
            "needs_background": "light"
          },
          "output_type": "display_data"
        }
      ],
      "source": [
        "plt.figure(figsize=(10,5))\n",
        "sns.heatmap(df.corr(),annot=True,cmap='Spectral',vmin=-1,vmax=1)\n",
        "plt.show()"
      ]
    },
    {
      "cell_type": "markdown",
      "metadata": {
        "id": "ShqkzZG6br9d"
      },
      "source": [
        "* There are no significant correlations between variables\n"
      ]
    },
    {
      "cell_type": "code",
      "execution_count": null,
      "metadata": {
        "id": "csDZ6ujSbr9e",
        "outputId": "7c7d9000-2b04-4568-f15b-5fdcc80cb5cb"
      },
      "outputs": [
        {
          "data": {
            "text/html": [
              "<div>\n",
              "<style scoped>\n",
              "    .dataframe tbody tr th:only-of-type {\n",
              "        vertical-align: middle;\n",
              "    }\n",
              "\n",
              "    .dataframe tbody tr th {\n",
              "        vertical-align: top;\n",
              "    }\n",
              "\n",
              "    .dataframe thead th {\n",
              "        text-align: right;\n",
              "    }\n",
              "</style>\n",
              "<table border=\"1\" class=\"dataframe\">\n",
              "  <thead>\n",
              "    <tr style=\"text-align: right;\">\n",
              "      <th></th>\n",
              "      <th>order_id</th>\n",
              "      <th>customer_id</th>\n",
              "      <th>restaurant_name</th>\n",
              "      <th>cuisine_type</th>\n",
              "      <th>cost_of_the_order</th>\n",
              "      <th>day_of_the_week</th>\n",
              "      <th>rating</th>\n",
              "      <th>food_preparation_time</th>\n",
              "      <th>delivery_time</th>\n",
              "      <th>total_delivery_time</th>\n",
              "    </tr>\n",
              "  </thead>\n",
              "  <tbody>\n",
              "    <tr>\n",
              "      <th>0</th>\n",
              "      <td>1477147</td>\n",
              "      <td>337525</td>\n",
              "      <td>Hangawi</td>\n",
              "      <td>Korean</td>\n",
              "      <td>30.75</td>\n",
              "      <td>Weekend</td>\n",
              "      <td>5</td>\n",
              "      <td>25</td>\n",
              "      <td>20</td>\n",
              "      <td>45</td>\n",
              "    </tr>\n",
              "    <tr>\n",
              "      <th>1</th>\n",
              "      <td>1477685</td>\n",
              "      <td>358141</td>\n",
              "      <td>Blue Ribbon Sushi Izakaya</td>\n",
              "      <td>Japanese</td>\n",
              "      <td>12.08</td>\n",
              "      <td>Weekend</td>\n",
              "      <td>5</td>\n",
              "      <td>25</td>\n",
              "      <td>23</td>\n",
              "      <td>48</td>\n",
              "    </tr>\n",
              "    <tr>\n",
              "      <th>2</th>\n",
              "      <td>1477070</td>\n",
              "      <td>66393</td>\n",
              "      <td>Cafe Habana</td>\n",
              "      <td>Mexican</td>\n",
              "      <td>12.23</td>\n",
              "      <td>Weekday</td>\n",
              "      <td>5</td>\n",
              "      <td>23</td>\n",
              "      <td>28</td>\n",
              "      <td>51</td>\n",
              "    </tr>\n",
              "    <tr>\n",
              "      <th>3</th>\n",
              "      <td>1477334</td>\n",
              "      <td>106968</td>\n",
              "      <td>Blue Ribbon Fried Chicken</td>\n",
              "      <td>American</td>\n",
              "      <td>29.20</td>\n",
              "      <td>Weekend</td>\n",
              "      <td>3</td>\n",
              "      <td>25</td>\n",
              "      <td>15</td>\n",
              "      <td>40</td>\n",
              "    </tr>\n",
              "    <tr>\n",
              "      <th>4</th>\n",
              "      <td>1478249</td>\n",
              "      <td>76942</td>\n",
              "      <td>Dirty Bird to Go</td>\n",
              "      <td>American</td>\n",
              "      <td>11.59</td>\n",
              "      <td>Weekday</td>\n",
              "      <td>4</td>\n",
              "      <td>25</td>\n",
              "      <td>24</td>\n",
              "      <td>49</td>\n",
              "    </tr>\n",
              "  </tbody>\n",
              "</table>\n",
              "</div>"
            ],
            "text/plain": [
              "   order_id  customer_id            restaurant_name cuisine_type  \\\n",
              "0   1477147       337525                    Hangawi       Korean   \n",
              "1   1477685       358141  Blue Ribbon Sushi Izakaya     Japanese   \n",
              "2   1477070        66393                Cafe Habana      Mexican   \n",
              "3   1477334       106968  Blue Ribbon Fried Chicken     American   \n",
              "4   1478249        76942           Dirty Bird to Go     American   \n",
              "\n",
              "   cost_of_the_order day_of_the_week  rating  food_preparation_time  \\\n",
              "0              30.75         Weekend       5                     25   \n",
              "1              12.08         Weekend       5                     25   \n",
              "2              12.23         Weekday       5                     23   \n",
              "3              29.20         Weekend       3                     25   \n",
              "4              11.59         Weekday       4                     25   \n",
              "\n",
              "   delivery_time  total_delivery_time  \n",
              "0             20                   45  \n",
              "1             23                   48  \n",
              "2             28                   51  \n",
              "3             15                   40  \n",
              "4             24                   49  "
            ]
          },
          "execution_count": 55,
          "metadata": {},
          "output_type": "execute_result"
        }
      ],
      "source": [
        "# We create a variable that might help in the analysis. \n",
        "# Clients perceive the total amount of time it took: delivery preparation time + delivery time\n",
        "df['total_delivery_time'] = df['food_preparation_time']+ df['delivery_time']\n",
        "df.head()"
      ]
    },
    {
      "cell_type": "code",
      "execution_count": null,
      "metadata": {
        "id": "UGtIAHL7br9f",
        "outputId": "5de3375d-99ef-48f2-d6fa-1b4ae194e588"
      },
      "outputs": [
        {
          "data": {
            "image/png": "[encoded data removed]",
            "text/plain": [
              "<Figure size 432x288 with 1 Axes>"
            ]
          },
          "metadata": {
            "needs_background": "light"
          },
          "output_type": "display_data"
        }
      ],
      "source": [
        "# Total Delivery time analysis\n",
        "plt.title('Boxplot: Total delivery time')\n",
        "sns.boxplot(data = df, x = 'total_delivery_time');"
      ]
    },
    {
      "cell_type": "code",
      "execution_count": null,
      "metadata": {
        "id": "UIJgOca9br9g",
        "outputId": "93604326-dd00-442a-9eaa-39e3300a4df0"
      },
      "outputs": [
        {
          "data": {
            "image/png": "[encoded data removed]",
            "text/plain": [
              "<Figure size 432x288 with 1 Axes>"
            ]
          },
          "metadata": {
            "needs_background": "light"
          },
          "output_type": "display_data"
        }
      ],
      "source": [
        "plt.title('Histogram: Delivery time')\n",
        "sns.histplot(data = df, x = 'total_delivery_time', kde=True);"
      ]
    },
    {
      "cell_type": "markdown",
      "metadata": {
        "id": "qN7h-wOBbr9g"
      },
      "source": [
        "* The minimum total delivery time is 35 min and the maximum delivery time is 67 minutes."
      ]
    },
    {
      "cell_type": "code",
      "execution_count": null,
      "metadata": {
        "id": "persF_wsbr9h",
        "outputId": "f4c9f956-9832-4015-d670-ef8714fba8dc"
      },
      "outputs": [
        {
          "data": {
            "image/png": "[encoded data removed]",
            "text/plain": [
              "<Figure size 360x360 with 1 Axes>"
            ]
          },
          "metadata": {
            "needs_background": "light"
          },
          "output_type": "display_data"
        }
      ],
      "source": [
        "sns.displot(data=df,x= 'total_delivery_time',kind='kde')\n",
        "plt.title('Distribution: Delivery time');"
      ]
    },
    {
      "cell_type": "markdown",
      "metadata": {
        "id": "asGu6RjObr9h"
      },
      "source": [
        "* Total delivery time seems to have a normal distribution. "
      ]
    },
    {
      "cell_type": "code",
      "execution_count": null,
      "metadata": {
        "id": "_ckVhlsobr9i",
        "outputId": "679a6366-5965-49a9-ad37-80f0a1d65cd8"
      },
      "outputs": [
        {
          "data": {
            "image/png": "[encoded data removed]",
            "text/plain": [
              "<Figure size 720x360 with 2 Axes>"
            ]
          },
          "metadata": {
            "needs_background": "light"
          },
          "output_type": "display_data"
        }
      ],
      "source": [
        "plt.figure(figsize=(10,5))\n",
        "sns.heatmap(df.corr(),annot=True,cmap='Spectral',vmin=-1,vmax=1)\n",
        "plt.show()"
      ]
    },
    {
      "cell_type": "markdown",
      "metadata": {
        "id": "CRzayscsbr9i"
      },
      "source": [
        "#### Creating a variable that captures the total delivery time.\n",
        "* In the end, customers measure the total time until their meals are delivered. \n",
        "* There is a correlation between the created variable with the variables with which it was created. \n",
        "* There is a positive correlation of 0.74 for total delivery time and delivery time.\n",
        "* There is a positive correlation of 0.69 for total delivery time and food preparation time. "
      ]
    },
    {
      "cell_type": "code",
      "execution_count": null,
      "metadata": {
        "id": "R_rnZ9aTbr9j",
        "outputId": "1a04a0fb-f973-4aca-dcc1-8da29aeefa06"
      },
      "outputs": [
        {
          "data": {
            "image/png": "[encoded data removed]",
            "text/plain": [
              "<Figure size 432x288 with 1 Axes>"
            ]
          },
          "metadata": {
            "needs_background": "light"
          },
          "output_type": "display_data"
        }
      ],
      "source": [
        "# Rating and Total_delivery_time\n",
        "sns.stripplot(data=df,y='total_delivery_time',x='rating', hue= 'day_of_the_week', jitter= True);\n"
      ]
    },
    {
      "cell_type": "markdown",
      "metadata": {
        "id": "QcAM2lWXbr9j"
      },
      "source": [
        "* The majority of ratings are concentrated between rating grades 4 and 5 independent of the day of the week. \n",
        "* For rating 5 even though orders take more than 60 minutes for a total delivery time, there is still a denser concentration of orders rated 5 as compared to ratings 4 and 3.  \n",
        "* Seems that weekends take leaser than weekdays for food to be delivered. There are no orders on weekdays that are delivered in less than 23 minutes."
      ]
    },
    {
      "cell_type": "code",
      "execution_count": null,
      "metadata": {
        "id": "RMKxJX2jbr9k",
        "outputId": "39e04984-a3ef-4d33-80c6-7d198d928749"
      },
      "outputs": [
        {
          "data": {
            "image/png": "[encoded data removed]",
            "text/plain": [
              "<Figure size 360x360 with 1 Axes>"
            ]
          },
          "metadata": {
            "needs_background": "light"
          },
          "output_type": "display_data"
        }
      ],
      "source": [
        "sns.lmplot(data = df, x='rating', y= 'cost_of_the_order');"
      ]
    },
    {
      "cell_type": "markdown",
      "metadata": {
        "id": "BfnpNBHAbr9k"
      },
      "source": [
        "* There is no correlation between cost of the order and rating. "
      ]
    },
    {
      "cell_type": "code",
      "execution_count": null,
      "metadata": {
        "scrolled": false,
        "id": "bKV5Qt_4br9l",
        "outputId": "2c7639db-1f0f-44d3-9914-36b77691fffb"
      },
      "outputs": [
        {
          "data": {
            "image/png": "[encoded data removed]",
            "text/plain": [
              "<Figure size 720x360 with 1 Axes>"
            ]
          },
          "metadata": {
            "needs_background": "light"
          },
          "output_type": "display_data"
        }
      ],
      "source": [
        "# Price and restaurant type\n",
        "plt.figure(figsize=(10,5))\n",
        "sns.boxplot(data=df,x='cuisine_type',y='cost_of_the_order') # turning off outliers\n",
        "plt.title(\"Cost of the orders and Cuisine type\") \n",
        "plt.xticks(rotation=90)\n",
        "plt.show()"
      ]
    },
    {
      "cell_type": "markdown",
      "metadata": {
        "id": "YR_c_Jo2br9l"
      },
      "source": [
        "* Chinese cuisine has the highest price per order at 34 USD, however, french cuisine has the highest median price per order at 21 USD.\n",
        "* Korean's median and minimum prices are almost the same. \n",
        "* Mediterranean cuisine has 4 outliers, Korean 5 outliers, and Vietnamese cuisine 1 outlier.\n",
        "* American, Japanese, and Chinese median prices are 14 USD while Italian cuisine median price is 15 USD. \n"
      ]
    },
    {
      "cell_type": "code",
      "execution_count": null,
      "metadata": {
        "id": "xihkgQ1hbr9l",
        "outputId": "c46c06a8-6688-4fa5-dc1f-763c6ed3e5bc"
      },
      "outputs": [
        {
          "data": {
            "image/png": "[encoded data removed]",
            "text/plain": [
              "<Figure size 720x360 with 1 Axes>"
            ]
          },
          "metadata": {
            "needs_background": "light"
          },
          "output_type": "display_data"
        }
      ],
      "source": [
        "# Price and restaurant type\n",
        "plt.figure(figsize=(10,5))\n",
        "sns.boxplot(data=df,x='cuisine_type',y='delivery_time') # turning off outliers\n",
        "plt.title(\"Delivery time and Cuisine type\") \n",
        "plt.xticks(rotation=90)\n",
        "plt.show()"
      ]
    },
    {
      "cell_type": "code",
      "execution_count": null,
      "metadata": {
        "id": "WS9tvObdbr9m",
        "outputId": "c25b4e5c-f34d-47bb-8b79-7d658ea56c7f"
      },
      "outputs": [
        {
          "data": {
            "image/png": "[encoded data removed]",
            "text/plain": [
              "<Figure size 720x360 with 1 Axes>"
            ]
          },
          "metadata": {
            "needs_background": "light"
          },
          "output_type": "display_data"
        }
      ],
      "source": [
        "# Food preparation time and cuisine type\n",
        "plt.figure(figsize=(10,5))\n",
        "sns.boxplot(data=df,x='cuisine_type',y='food_preparation_time') # turning off outliers\n",
        "plt.title(\"Food preparation time and Cuisine type\") \n",
        "plt.xticks(rotation=90)\n",
        "plt.show()"
      ]
    },
    {
      "cell_type": "code",
      "execution_count": null,
      "metadata": {
        "id": "tum6wZlNbr9m",
        "outputId": "a6c8ce28-9e24-4138-bf63-929cf455c38f"
      },
      "outputs": [
        {
          "data": {
            "image/png": "[encoded data removed]",
            "text/plain": [
              "<Figure size 720x360 with 1 Axes>"
            ]
          },
          "metadata": {
            "needs_background": "light"
          },
          "output_type": "display_data"
        }
      ],
      "source": [
        "plt.figure(figsize=(10,5))\n",
        "sns.countplot(data= df, x= 'cuisine_type',hue ='rating')\n",
        "plt.title(\"Rating and Cuisine type\") \n",
        "plt.xticks(rotation=90);"
      ]
    },
    {
      "cell_type": "markdown",
      "metadata": {
        "id": "jEexyMaWbr9n"
      },
      "source": [
        "* The most popular cuisine types to order from (American, Japanese, Chinese and Italian) tend to be graded the most with 5 and have fewer orders graded with 3. \n",
        "* Only Korean, Middle Eastern, and Southern cuisines are rated the most with a grade of 4. "
      ]
    },
    {
      "cell_type": "code",
      "execution_count": null,
      "metadata": {
        "id": "xBmyzYaDbr9n",
        "outputId": "2f606b87-476b-40df-d8db-f49882ef2c5a"
      },
      "outputs": [
        {
          "data": {
            "image/png": "[encoded data removed]",
            "text/plain": [
              "<Figure size 720x360 with 1 Axes>"
            ]
          },
          "metadata": {
            "needs_background": "light"
          },
          "output_type": "display_data"
        }
      ],
      "source": [
        "# Restaurant type and day of the week\n",
        "\n",
        "plt.figure(figsize=(10,5))\n",
        "sns.countplot(data =df,x= 'cuisine_type', hue = 'day_of_the_week')\n",
        "plt.title(\"Day of the week and Cuisine type\") \n",
        "plt.xticks(rotation=90)\n",
        "plt.show();"
      ]
    },
    {
      "cell_type": "markdown",
      "metadata": {
        "id": "P5siKX2Ibr9n"
      },
      "source": [
        "* American food is the most popular to be ordered during weekdays and weekdays followed by Japanese, then Italian and Chinese independent of the day of the week.\n"
      ]
    },
    {
      "cell_type": "code",
      "execution_count": null,
      "metadata": {
        "id": "ltgAvsANbr9n",
        "outputId": "dc16871f-64e8-41db-a103-3ee7e48e7ea5"
      },
      "outputs": [
        {
          "data": {
            "image/png": "[encoded data removed]",
            "text/plain": [
              "<Figure size 432x288 with 1 Axes>"
            ]
          },
          "metadata": {
            "needs_background": "light"
          },
          "output_type": "display_data"
        }
      ],
      "source": [
        "sns.stripplot(data=df, x='cuisine_type', y='delivery_time', hue=\"day_of_the_week\",jitter=True )\n",
        "plt.title(\"Delivery time and Cuisine type\") \n",
        "plt.xticks(rotation=90);  "
      ]
    },
    {
      "cell_type": "markdown",
      "metadata": {
        "id": "9A0HIMhgbr9o"
      },
      "source": [
        "There is a clear pattern that shows that delivery time is higher in weekdays than on weekends independent of the type of cuisine."
      ]
    },
    {
      "cell_type": "code",
      "execution_count": null,
      "metadata": {
        "id": "aJaobI3tbr9o",
        "outputId": "1aab4b7e-38fe-4d19-8707-ea68c23d4b21"
      },
      "outputs": [
        {
          "data": {
            "image/png": "[encoded data removed]",
            "text/plain": [
              "<Figure size 432x288 with 1 Axes>"
            ]
          },
          "metadata": {
            "needs_background": "light"
          },
          "output_type": "display_data"
        }
      ],
      "source": [
        "sns.stripplot(data=df, x='cuisine_type', y='food_preparation_time', hue=\"day_of_the_week\",jitter=True)\n",
        "plt.title(\"Food preparation time and Cuisine type\") \n",
        "plt.xticks(rotation=90);"
      ]
    },
    {
      "cell_type": "markdown",
      "metadata": {
        "id": "Nv7AXrlRbr9o"
      },
      "source": [
        "There is no pattern in food preparation time during weekends or weekdays nor in the type of cuisine. "
      ]
    },
    {
      "cell_type": "code",
      "execution_count": null,
      "metadata": {
        "id": "BW4K_Fgbbr9o",
        "outputId": "f0585b8b-b058-4dcf-cdc4-4f04278011fd"
      },
      "outputs": [
        {
          "data": {
            "image/png": "[encoded data removed]",
            "text/plain": [
              "<Figure size 432x288 with 1 Axes>"
            ]
          },
          "metadata": {
            "needs_background": "light"
          },
          "output_type": "display_data"
        }
      ],
      "source": [
        "sns.boxplot(data = df, y='food_preparation_time', x='rating', hue= 'day_of_the_week')\n",
        "plt.legend(loc= 'lower right');"
      ]
    },
    {
      "cell_type": "code",
      "execution_count": null,
      "metadata": {
        "id": "Xjm7pfDObr9p",
        "outputId": "74fd0425-f956-4920-d103-6336fc1253b2"
      },
      "outputs": [
        {
          "data": {
            "image/png": "[encoded data removed]",
            "text/plain": [
              "<Figure size 432x288 with 1 Axes>"
            ]
          },
          "metadata": {
            "needs_background": "light"
          },
          "output_type": "display_data"
        }
      ],
      "source": [
        "sns.boxplot(data = df, y='delivery_time', x='rating', hue= 'day_of_the_week')\n",
        "plt.legend(loc= 'lower right');"
      ]
    },
    {
      "cell_type": "code",
      "execution_count": null,
      "metadata": {
        "id": "PfhnWYKwbr9p",
        "outputId": "919941ac-8382-4c37-d0e2-8dd15c0b8fcd"
      },
      "outputs": [
        {
          "data": {
            "image/png": "[encoded data removed]",
            "text/plain": [
              "<Figure size 432x288 with 1 Axes>"
            ]
          },
          "metadata": {
            "needs_background": "light"
          },
          "output_type": "display_data"
        }
      ],
      "source": [
        "sns.boxplot(data = df, y='cost_of_the_order', x='rating', hue= 'day_of_the_week')\n",
        "plt.legend(loc= 'upper right');"
      ]
    },
    {
      "cell_type": "code",
      "execution_count": null,
      "metadata": {
        "id": "Ywt22rSWbr9q",
        "outputId": "1b9f51a9-09ba-4fba-a68f-9a8c1c103591"
      },
      "outputs": [
        {
          "data": {
            "image/png": "[encoded data removed]",
            "text/plain": [
              "<Figure size 720x360 with 1 Axes>"
            ]
          },
          "metadata": {
            "needs_background": "light"
          },
          "output_type": "display_data"
        }
      ],
      "source": [
        "# Delivery time and day of the week\n",
        "plt.figure(figsize=(10,5))\n",
        "sns.countplot(data =df,x= 'delivery_time', hue = 'day_of_the_week')\n",
        "plt.xticks(rotation=90)\n",
        "plt.show();"
      ]
    },
    {
      "cell_type": "markdown",
      "metadata": {
        "id": "YzjLLt0Xbr9q"
      },
      "source": [
        "* We can see that on weekdays the minimum delivery time is 24 minutes and the maximum 33, as for weekends the minimum delivery time is 15 minutes and the maximum 30."
      ]
    },
    {
      "cell_type": "code",
      "execution_count": null,
      "metadata": {
        "id": "4dXpgf83br9r",
        "outputId": "0029dfa2-aac4-46c0-e95c-d3affc08a898"
      },
      "outputs": [
        {
          "data": {
            "image/png": "[encoded data removed]",
            "text/plain": [
              "<Figure size 720x360 with 1 Axes>"
            ]
          },
          "metadata": {
            "needs_background": "light"
          },
          "output_type": "display_data"
        }
      ],
      "source": [
        "# Delivery time and day of the week\n",
        "plt.figure(figsize=(10,5))\n",
        "sns.countplot(data =df,x= 'food_preparation_time', hue = 'day_of_the_week')\n",
        "plt.xticks(rotation=90)\n",
        "plt.show();"
      ]
    },
    {
      "cell_type": "markdown",
      "metadata": {
        "id": "lpOASt4qbr9r"
      },
      "source": [
        "Observation: Food preparation time during weekdays and weekends goes from 15 to 40 minutes. The time-lapse is the same between weekdays and weekends."
      ]
    },
    {
      "cell_type": "code",
      "execution_count": null,
      "metadata": {
        "id": "ZrrabHlabr9s",
        "outputId": "f1c4dd29-db30-4df1-bc94-f21052e34946"
      },
      "outputs": [
        {
          "data": {
            "image/png": "[encoded data removed]",
            "text/plain": [
              "<Figure size 720x360 with 1 Axes>"
            ]
          },
          "metadata": {
            "needs_background": "light"
          },
          "output_type": "display_data"
        }
      ],
      "source": [
        "plt.figure(figsize=(10,5))\n",
        "sns.countplot(data =df,x= 'total_delivery_time', hue = 'day_of_the_week')\n",
        "plt.xticks(rotation=90)\n",
        "plt.show();"
      ]
    },
    {
      "cell_type": "markdown",
      "metadata": {
        "id": "Brn35L1Dbr9s"
      },
      "source": [
        "* Weekends and weekdays total delivery time distribution have a normal distribution, which is caused by the food delivery time."
      ]
    },
    {
      "cell_type": "markdown",
      "metadata": {
        "id": "YLkMf09YJY_V"
      },
      "source": [
        "### **Question 13:** The company wants to provide a promotional offer in the advertisement of the restaurants. The condition to get the offer is that the restaurants must have a rating count of more than 50 and the average rating should be greater than 4. Find the restaurants fulfilling the criteria to get the promotional offer. [3 marks]"
      ]
    },
    {
      "cell_type": "code",
      "execution_count": null,
      "metadata": {
        "id": "0M_QDvbYJY_V"
      },
      "outputs": [],
      "source": [
        "# Getting a DF where there are just orders rated above 3.\n",
        "rating_4 = df[df['rating'] > 3]"
      ]
    },
    {
      "cell_type": "code",
      "execution_count": null,
      "metadata": {
        "id": "0cn3fJ4sbr9t",
        "outputId": "d4360e6b-362a-4ef9-9a12-8df086079ab1"
      },
      "outputs": [
        {
          "data": {
            "text/html": [
              "<div>\n",
              "<style scoped>\n",
              "    .dataframe tbody tr th:only-of-type {\n",
              "        vertical-align: middle;\n",
              "    }\n",
              "\n",
              "    .dataframe tbody tr th {\n",
              "        vertical-align: top;\n",
              "    }\n",
              "\n",
              "    .dataframe thead th {\n",
              "        text-align: right;\n",
              "    }\n",
              "</style>\n",
              "<table border=\"1\" class=\"dataframe\">\n",
              "  <thead>\n",
              "    <tr style=\"text-align: right;\">\n",
              "      <th></th>\n",
              "      <th>order_id</th>\n",
              "      <th>customer_id</th>\n",
              "      <th>cost_of_the_order</th>\n",
              "      <th>rating</th>\n",
              "      <th>food_preparation_time</th>\n",
              "      <th>delivery_time</th>\n",
              "      <th>total_delivery_time</th>\n",
              "    </tr>\n",
              "  </thead>\n",
              "  <tbody>\n",
              "    <tr>\n",
              "      <th>count</th>\n",
              "      <td>1.710000e+03</td>\n",
              "      <td>1710.000000</td>\n",
              "      <td>1710.00000</td>\n",
              "      <td>1710.000000</td>\n",
              "      <td>1710.000000</td>\n",
              "      <td>1710.000000</td>\n",
              "      <td>1710.000000</td>\n",
              "    </tr>\n",
              "    <tr>\n",
              "      <th>mean</th>\n",
              "      <td>1.477495e+06</td>\n",
              "      <td>170449.077778</td>\n",
              "      <td>16.52914</td>\n",
              "      <td>4.774269</td>\n",
              "      <td>27.365497</td>\n",
              "      <td>24.118129</td>\n",
              "      <td>51.483626</td>\n",
              "    </tr>\n",
              "    <tr>\n",
              "      <th>std</th>\n",
              "      <td>5.450132e+02</td>\n",
              "      <td>113207.778888</td>\n",
              "      <td>7.44528</td>\n",
              "      <td>0.418185</td>\n",
              "      <td>4.618669</td>\n",
              "      <td>5.005914</td>\n",
              "      <td>6.876195</td>\n",
              "    </tr>\n",
              "    <tr>\n",
              "      <th>min</th>\n",
              "      <td>1.476547e+06</td>\n",
              "      <td>1311.000000</td>\n",
              "      <td>4.47000</td>\n",
              "      <td>4.000000</td>\n",
              "      <td>20.000000</td>\n",
              "      <td>15.000000</td>\n",
              "      <td>35.000000</td>\n",
              "    </tr>\n",
              "    <tr>\n",
              "      <th>25%</th>\n",
              "      <td>1.477027e+06</td>\n",
              "      <td>77544.000000</td>\n",
              "      <td>12.08000</td>\n",
              "      <td>5.000000</td>\n",
              "      <td>23.000000</td>\n",
              "      <td>20.000000</td>\n",
              "      <td>47.000000</td>\n",
              "    </tr>\n",
              "    <tr>\n",
              "      <th>50%</th>\n",
              "      <td>1.477496e+06</td>\n",
              "      <td>128476.500000</td>\n",
              "      <td>14.23500</td>\n",
              "      <td>5.000000</td>\n",
              "      <td>27.000000</td>\n",
              "      <td>25.000000</td>\n",
              "      <td>51.000000</td>\n",
              "    </tr>\n",
              "    <tr>\n",
              "      <th>75%</th>\n",
              "      <td>1.477964e+06</td>\n",
              "      <td>270370.250000</td>\n",
              "      <td>22.31000</td>\n",
              "      <td>5.000000</td>\n",
              "      <td>31.000000</td>\n",
              "      <td>28.000000</td>\n",
              "      <td>56.000000</td>\n",
              "    </tr>\n",
              "    <tr>\n",
              "      <th>max</th>\n",
              "      <td>1.478443e+06</td>\n",
              "      <td>405334.000000</td>\n",
              "      <td>35.41000</td>\n",
              "      <td>5.000000</td>\n",
              "      <td>35.000000</td>\n",
              "      <td>33.000000</td>\n",
              "      <td>68.000000</td>\n",
              "    </tr>\n",
              "  </tbody>\n",
              "</table>\n",
              "</div>"
            ],
            "text/plain": [
              "           order_id    customer_id  cost_of_the_order       rating  \\\n",
              "count  1.710000e+03    1710.000000         1710.00000  1710.000000   \n",
              "mean   1.477495e+06  170449.077778           16.52914     4.774269   \n",
              "std    5.450132e+02  113207.778888            7.44528     0.418185   \n",
              "min    1.476547e+06    1311.000000            4.47000     4.000000   \n",
              "25%    1.477027e+06   77544.000000           12.08000     5.000000   \n",
              "50%    1.477496e+06  128476.500000           14.23500     5.000000   \n",
              "75%    1.477964e+06  270370.250000           22.31000     5.000000   \n",
              "max    1.478443e+06  405334.000000           35.41000     5.000000   \n",
              "\n",
              "       food_preparation_time  delivery_time  total_delivery_time  \n",
              "count            1710.000000    1710.000000          1710.000000  \n",
              "mean               27.365497      24.118129            51.483626  \n",
              "std                 4.618669       5.005914             6.876195  \n",
              "min                20.000000      15.000000            35.000000  \n",
              "25%                23.000000      20.000000            47.000000  \n",
              "50%                27.000000      25.000000            51.000000  \n",
              "75%                31.000000      28.000000            56.000000  \n",
              "max                35.000000      33.000000            68.000000  "
            ]
          },
          "execution_count": 76,
          "metadata": {},
          "output_type": "execute_result"
        }
      ],
      "source": [
        "rating_4.describe()"
      ]
    },
    {
      "cell_type": "code",
      "execution_count": null,
      "metadata": {
        "id": "pR8gnJNDbr9u",
        "outputId": "23be4ea2-700f-4255-876e-6dc6492e3775"
      },
      "outputs": [
        {
          "data": {
            "text/plain": [
              "Shake Shack                  196\n",
              "The Meatball Shop            122\n",
              "Blue Ribbon Sushi            103\n",
              "Blue Ribbon Fried Chicken     85\n",
              "Parm                          59\n",
              "                            ... \n",
              "The MasalaWala                 1\n",
              "Crema Restaurante              1\n",
              "Gaia Italian Cafe              1\n",
              "Cafe de La Esquina             1\n",
              "'wichcraft                     1\n",
              "Name: restaurant_name, Length: 172, dtype: int64"
            ]
          },
          "execution_count": 77,
          "metadata": {},
          "output_type": "execute_result"
        }
      ],
      "source": [
        "# Considering only restaurants with a value count above 50. \n",
        "rating_4['restaurant_name'].value_counts()"
      ]
    },
    {
      "cell_type": "markdown",
      "metadata": {
        "id": "10uryUMhJY_V"
      },
      "source": [
        "#### Observations:\n",
        "This are the restaurants with a rating >= 4 and with a rating counts >=50\n",
        "* Shake Shack - This restaurant has 196 rating counts and a rating =>4             \n",
        "* The Meatball Shop - This restaurant has 122 rating counts and a rating =>4         \n",
        "* Blue Ribbon Sushi -This restaurant has 103 rating counts and a rating =>4             \n",
        "* Blue Ribbon Fried Chicken - This restaurant has 85 rating counts and a rating =>4  "
      ]
    },
    {
      "cell_type": "markdown",
      "metadata": {
        "id": "1gvWBkRUJY_V"
      },
      "source": [
        "### **Question 14:** The company charges the restaurant 25% on the orders having cost greater than 20 dollars and 15% on the orders having cost greater than 5 dollars. Find the net revenue generated by the company across all orders. [3 marks]"
      ]
    },
    {
      "cell_type": "code",
      "execution_count": null,
      "metadata": {
        "id": "_DXY1lwzbr9v"
      },
      "outputs": [],
      "source": [
        "# Method 1: Getting the number through filters.\n",
        "cost_more20 = df[df['cost_of_the_order'] > 20] "
      ]
    },
    {
      "cell_type": "code",
      "execution_count": null,
      "metadata": {
        "id": "xlPlXSQ7br9v"
      },
      "outputs": [],
      "source": [
        "cost_less20 = df[(df['cost_of_the_order'] > 5) & (df['cost_of_the_order'] <= 20) ]"
      ]
    },
    {
      "cell_type": "code",
      "execution_count": null,
      "metadata": {
        "id": "Dty-UiKSbr9w"
      },
      "outputs": [],
      "source": [
        "revenue_25 = cost_more20['cost_of_the_order']* 0.25"
      ]
    },
    {
      "cell_type": "code",
      "execution_count": null,
      "metadata": {
        "id": "_40ANeH1br9w"
      },
      "outputs": [],
      "source": [
        "revenue_15 = cost_less20['cost_of_the_order']* 0.15"
      ]
    },
    {
      "cell_type": "code",
      "execution_count": null,
      "metadata": {
        "id": "CZrdw0LDbr9w",
        "outputId": "b50d4762-49a4-444b-82f2-e7a89e3210ea"
      },
      "outputs": [
        {
          "name": "stdout",
          "output_type": "stream",
          "text": [
            "The total revenue for the company is: $ 6166.303\n"
          ]
        }
      ],
      "source": [
        "total_revenue =revenue_25.sum() +  revenue_15.sum()\n",
        "print('The total revenue for the company is:','$',total_revenue)"
      ]
    },
    {
      "cell_type": "code",
      "execution_count": null,
      "metadata": {
        "id": "5hbCQAwUbr9x"
      },
      "outputs": [],
      "source": [
        "# Method 2: Creating a new column and summing the values\n",
        "revenue = []\n",
        "for i in df['cost_of_the_order']:\n",
        "    if (i > 20):\n",
        "        temp = i * 0.25\n",
        "        revenue.append(temp)\n",
        "    elif (i > 5) and (i <=20):\n",
        "        temp = i * 0.15\n",
        "        revenue.append(temp)\n",
        "    else:\n",
        "        temp = i * 0\n",
        "        revenue.append(temp)"
      ]
    },
    {
      "cell_type": "code",
      "execution_count": null,
      "metadata": {
        "id": "PjGKXRwHbr9x"
      },
      "outputs": [],
      "source": [
        "df['revenue']= revenue"
      ]
    },
    {
      "cell_type": "code",
      "execution_count": null,
      "metadata": {
        "id": "YEJ_tAt0br9y",
        "outputId": "d610fd90-b317-465c-bbe5-509e665461c8"
      },
      "outputs": [
        {
          "data": {
            "text/plain": [
              "6166.303"
            ]
          },
          "execution_count": 85,
          "metadata": {},
          "output_type": "execute_result"
        }
      ],
      "source": [
        "df['revenue'].sum()"
      ]
    },
    {
      "cell_type": "markdown",
      "metadata": {
        "id": "XHCEJgH0JY_W"
      },
      "source": [
        "#### Observations:\n",
        "The net revenue for the company is: $ 6172.714 USD"
      ]
    },
    {
      "cell_type": "code",
      "execution_count": null,
      "metadata": {
        "id": "Va7zEKarbr9z"
      },
      "outputs": [],
      "source": [
        "# Checking the median price per ticket for each restaurant.\n",
        "# ¿Is the ticket value important?\n",
        "rev_mean = df.groupby(['restaurant_name'])[['revenue']].mean().sort_values(by = 'revenue', ascending=False)"
      ]
    },
    {
      "cell_type": "code",
      "execution_count": null,
      "metadata": {
        "id": "nB4Ar3eYbr9z"
      },
      "outputs": [],
      "source": [
        "rev_mean.reset_index(inplace=True)"
      ]
    },
    {
      "cell_type": "code",
      "execution_count": null,
      "metadata": {
        "id": "1V4EEd0hbr9z",
        "outputId": "d3332418-4008-4da9-c755-c48c34d7698c"
      },
      "outputs": [
        {
          "data": {
            "text/html": [
              "<div>\n",
              "<style scoped>\n",
              "    .dataframe tbody tr th:only-of-type {\n",
              "        vertical-align: middle;\n",
              "    }\n",
              "\n",
              "    .dataframe tbody tr th {\n",
              "        vertical-align: top;\n",
              "    }\n",
              "\n",
              "    .dataframe thead th {\n",
              "        text-align: right;\n",
              "    }\n",
              "</style>\n",
              "<table border=\"1\" class=\"dataframe\">\n",
              "  <thead>\n",
              "    <tr style=\"text-align: right;\">\n",
              "      <th></th>\n",
              "      <th>restaurant_name</th>\n",
              "      <th>revenue</th>\n",
              "    </tr>\n",
              "  </thead>\n",
              "  <tbody>\n",
              "    <tr>\n",
              "      <th>0</th>\n",
              "      <td>Kambi Ramen House</td>\n",
              "      <td>8.23250</td>\n",
              "    </tr>\n",
              "    <tr>\n",
              "      <th>1</th>\n",
              "      <td>Emporio</td>\n",
              "      <td>7.85750</td>\n",
              "    </tr>\n",
              "    <tr>\n",
              "      <th>2</th>\n",
              "      <td>Bhatti Indian Grill</td>\n",
              "      <td>7.77875</td>\n",
              "    </tr>\n",
              "    <tr>\n",
              "      <th>3</th>\n",
              "      <td>Haru Gramercy Park</td>\n",
              "      <td>7.45750</td>\n",
              "    </tr>\n",
              "    <tr>\n",
              "      <th>4</th>\n",
              "      <td>Il Bambino</td>\n",
              "      <td>7.31250</td>\n",
              "    </tr>\n",
              "    <tr>\n",
              "      <th>...</th>\n",
              "      <td>...</td>\n",
              "      <td>...</td>\n",
              "    </tr>\n",
              "    <tr>\n",
              "      <th>173</th>\n",
              "      <td>Market Table</td>\n",
              "      <td>1.01850</td>\n",
              "    </tr>\n",
              "    <tr>\n",
              "      <th>174</th>\n",
              "      <td>Wa Jeal</td>\n",
              "      <td>1.01100</td>\n",
              "    </tr>\n",
              "    <tr>\n",
              "      <th>175</th>\n",
              "      <td>Cipriani Le Specialita</td>\n",
              "      <td>0.88800</td>\n",
              "    </tr>\n",
              "    <tr>\n",
              "      <th>176</th>\n",
              "      <td>Big Wong Restaurant _¤¾Ñ¼</td>\n",
              "      <td>0.88800</td>\n",
              "    </tr>\n",
              "    <tr>\n",
              "      <th>177</th>\n",
              "      <td>Hunan Manor</td>\n",
              "      <td>0.85800</td>\n",
              "    </tr>\n",
              "  </tbody>\n",
              "</table>\n",
              "<p>178 rows × 2 columns</p>\n",
              "</div>"
            ],
            "text/plain": [
              "                restaurant_name  revenue\n",
              "0             Kambi Ramen House  8.23250\n",
              "1                       Emporio  7.85750\n",
              "2           Bhatti Indian Grill  7.77875\n",
              "3            Haru Gramercy Park  7.45750\n",
              "4                    Il Bambino  7.31250\n",
              "..                          ...      ...\n",
              "173                Market Table  1.01850\n",
              "174                     Wa Jeal  1.01100\n",
              "175      Cipriani Le Specialita  0.88800\n",
              "176  Big Wong Restaurant _¤¾Ñ¼  0.88800\n",
              "177                 Hunan Manor  0.85800\n",
              "\n",
              "[178 rows x 2 columns]"
            ]
          },
          "execution_count": 88,
          "metadata": {},
          "output_type": "execute_result"
        }
      ],
      "source": [
        "rev_mean"
      ]
    },
    {
      "cell_type": "code",
      "execution_count": null,
      "metadata": {
        "id": "mt6Q_OyFbr90",
        "outputId": "f76d1ea1-9360-4680-c14a-63d00ec535c5"
      },
      "outputs": [
        {
          "name": "stdout",
          "output_type": "stream",
          "text": [
            "   restaurant_name   revenue\n",
            "75     Shake Shack  3.212817\n",
            "      restaurant_name   revenue\n",
            "81  The Meatball Shop  3.180519\n",
            "      restaurant_name  revenue\n",
            "88  Blue Ribbon Sushi  3.02908\n",
            "              restaurant_name   revenue\n",
            "58  Blue Ribbon Fried Chicken  3.543786\n",
            "   restaurant_name   revenue\n",
            "74            Parm  3.214074\n"
          ]
        }
      ],
      "source": [
        "# Comparing in what placed the top 5 most popular restaurants to order fell into.\n",
        "print(rev_mean.loc[rev_mean['restaurant_name'] == 'Shake Shack'])\n",
        "print(rev_mean.loc[rev_mean['restaurant_name'] == 'The Meatball Shop'])\n",
        "print(rev_mean.loc[rev_mean['restaurant_name'] == 'Blue Ribbon Sushi'])\n",
        "print(rev_mean.loc[rev_mean['restaurant_name'] == 'Blue Ribbon Fried Chicken'])\n",
        "print(rev_mean.loc[rev_mean['restaurant_name'] == 'Parm'])"
      ]
    },
    {
      "cell_type": "markdown",
      "metadata": {
        "id": "EIZFusOTbr90"
      },
      "source": [
        "* Shake Shack, Meatball Shop, Blue Ribben Sushi, Blue Ribbon Fried Chicken, and Parm are the most popular restaurants, however, they are not the ones that generate the highest revenues per ticket (median bill price per order). Of 178 restaurants, they don't belong to the top 10 restaurants with the highest median tickets, on the contrary, they are listed in 75th place, 81st place, 88th place, 58th place, and 74th place.\n",
        "* Top 5 restaurants with the highest median ticket per order are Kambi Ramen House, Emporio, Bhatti Indian Grill, Haru Gramercy Park, and Bambino. \n"
      ]
    },
    {
      "cell_type": "code",
      "execution_count": null,
      "metadata": {
        "id": "wSgruTYdbr91"
      },
      "outputs": [],
      "source": [
        "# Analysing if median ticket value is actually important. \n",
        "# ¿Restaurants with the highest median ticket value per order generate significant revenues?\n",
        "rev = df.groupby(['restaurant_name'])[['revenue']].sum().sort_values(by = 'revenue', ascending=False)\n",
        "rev.reset_index(inplace=True)"
      ]
    },
    {
      "cell_type": "code",
      "execution_count": null,
      "metadata": {
        "id": "ueq3qyPUbr91",
        "outputId": "40180983-09ae-4649-ef1e-b79e336ad885"
      },
      "outputs": [
        {
          "data": {
            "text/html": [
              "<div>\n",
              "<style scoped>\n",
              "    .dataframe tbody tr th:only-of-type {\n",
              "        vertical-align: middle;\n",
              "    }\n",
              "\n",
              "    .dataframe tbody tr th {\n",
              "        vertical-align: top;\n",
              "    }\n",
              "\n",
              "    .dataframe thead th {\n",
              "        text-align: right;\n",
              "    }\n",
              "</style>\n",
              "<table border=\"1\" class=\"dataframe\">\n",
              "  <thead>\n",
              "    <tr style=\"text-align: right;\">\n",
              "      <th></th>\n",
              "      <th>restaurant_name</th>\n",
              "      <th>revenue</th>\n",
              "    </tr>\n",
              "  </thead>\n",
              "  <tbody>\n",
              "    <tr>\n",
              "      <th>0</th>\n",
              "      <td>Shake Shack</td>\n",
              "      <td>703.6070</td>\n",
              "    </tr>\n",
              "    <tr>\n",
              "      <th>1</th>\n",
              "      <td>The Meatball Shop</td>\n",
              "      <td>419.8285</td>\n",
              "    </tr>\n",
              "    <tr>\n",
              "      <th>2</th>\n",
              "      <td>Blue Ribbon Sushi</td>\n",
              "      <td>360.4605</td>\n",
              "    </tr>\n",
              "    <tr>\n",
              "      <th>3</th>\n",
              "      <td>Blue Ribbon Fried Chicken</td>\n",
              "      <td>340.2035</td>\n",
              "    </tr>\n",
              "    <tr>\n",
              "      <th>4</th>\n",
              "      <td>Parm</td>\n",
              "      <td>218.5570</td>\n",
              "    </tr>\n",
              "    <tr>\n",
              "      <th>...</th>\n",
              "      <td>...</td>\n",
              "      <td>...</td>\n",
              "    </tr>\n",
              "    <tr>\n",
              "      <th>173</th>\n",
              "      <td>Market Table</td>\n",
              "      <td>1.0185</td>\n",
              "    </tr>\n",
              "    <tr>\n",
              "      <th>174</th>\n",
              "      <td>Wa Jeal</td>\n",
              "      <td>1.0110</td>\n",
              "    </tr>\n",
              "    <tr>\n",
              "      <th>175</th>\n",
              "      <td>Cipriani Le Specialita</td>\n",
              "      <td>0.8880</td>\n",
              "    </tr>\n",
              "    <tr>\n",
              "      <th>176</th>\n",
              "      <td>Big Wong Restaurant _¤¾Ñ¼</td>\n",
              "      <td>0.8880</td>\n",
              "    </tr>\n",
              "    <tr>\n",
              "      <th>177</th>\n",
              "      <td>Hunan Manor</td>\n",
              "      <td>0.8580</td>\n",
              "    </tr>\n",
              "  </tbody>\n",
              "</table>\n",
              "<p>178 rows × 2 columns</p>\n",
              "</div>"
            ],
            "text/plain": [
              "                restaurant_name   revenue\n",
              "0                   Shake Shack  703.6070\n",
              "1             The Meatball Shop  419.8285\n",
              "2             Blue Ribbon Sushi  360.4605\n",
              "3     Blue Ribbon Fried Chicken  340.2035\n",
              "4                          Parm  218.5570\n",
              "..                          ...       ...\n",
              "173                Market Table    1.0185\n",
              "174                     Wa Jeal    1.0110\n",
              "175      Cipriani Le Specialita    0.8880\n",
              "176  Big Wong Restaurant _¤¾Ñ¼    0.8880\n",
              "177                 Hunan Manor    0.8580\n",
              "\n",
              "[178 rows x 2 columns]"
            ]
          },
          "execution_count": 91,
          "metadata": {},
          "output_type": "execute_result"
        }
      ],
      "source": [
        "rev"
      ]
    },
    {
      "cell_type": "code",
      "execution_count": null,
      "metadata": {
        "id": "hXiM2VTxbr92",
        "outputId": "709c1086-1af4-4a3d-be9f-bdd0e9e69547"
      },
      "outputs": [
        {
          "name": "stdout",
          "output_type": "stream",
          "text": [
            "       restaurant_name  revenue\n",
            "104  Kambi Ramen House   8.2325\n",
            "    restaurant_name  revenue\n",
            "108         Emporio   7.8575\n",
            "        restaurant_name  revenue\n",
            "68  Bhatti Indian Grill  15.5575\n",
            "        restaurant_name  revenue\n",
            "109  Haru Gramercy Park   7.4575\n",
            "    restaurant_name  revenue\n",
            "110      Il Bambino   7.3125\n"
          ]
        }
      ],
      "source": [
        "# Analysing what placed did top 5 highest median tickets restaurants have when talking about generated revenue\n",
        "print(rev.loc[rev['restaurant_name'] == 'Kambi Ramen House'])\n",
        "print(rev.loc[rev['restaurant_name'] == 'Emporio'])\n",
        "print(rev.loc[rev['restaurant_name'] == 'Bhatti Indian Grill'])\n",
        "print(rev.loc[rev['restaurant_name'] == 'Haru Gramercy Park'])\n",
        "print(rev.loc[rev['restaurant_name'] == 'Il Bambino'])"
      ]
    },
    {
      "cell_type": "markdown",
      "metadata": {
        "id": "pHRZm3-Jbr93"
      },
      "source": [
        "Top 5 most popular restaurants to order from might not have the highest tickets, however they are the top 5 restaurants that generate revenue in comparison to those restaurants with the highest median tickets. "
      ]
    },
    {
      "cell_type": "code",
      "execution_count": null,
      "metadata": {
        "id": "cvAymcl8br93"
      },
      "outputs": [],
      "source": [
        "# Creating a new variable with the % of revenue generated by each observation.\n",
        "per_rev = df['revenue']/6166.303*100"
      ]
    },
    {
      "cell_type": "code",
      "execution_count": null,
      "metadata": {
        "id": "ogcbFI9Qbr93"
      },
      "outputs": [],
      "source": [
        "df['percentage'] = per_rev"
      ]
    },
    {
      "cell_type": "code",
      "execution_count": null,
      "metadata": {
        "scrolled": true,
        "id": "3CmEYksFbr94",
        "outputId": "acdccebe-5829-4c36-b5cc-7f3010c5c71a"
      },
      "outputs": [
        {
          "data": {
            "text/html": [
              "<div>\n",
              "<style scoped>\n",
              "    .dataframe tbody tr th:only-of-type {\n",
              "        vertical-align: middle;\n",
              "    }\n",
              "\n",
              "    .dataframe tbody tr th {\n",
              "        vertical-align: top;\n",
              "    }\n",
              "\n",
              "    .dataframe thead th {\n",
              "        text-align: right;\n",
              "    }\n",
              "</style>\n",
              "<table border=\"1\" class=\"dataframe\">\n",
              "  <thead>\n",
              "    <tr style=\"text-align: right;\">\n",
              "      <th></th>\n",
              "      <th>percentage</th>\n",
              "    </tr>\n",
              "    <tr>\n",
              "      <th>restaurant_name</th>\n",
              "      <th></th>\n",
              "    </tr>\n",
              "  </thead>\n",
              "  <tbody>\n",
              "    <tr>\n",
              "      <th>Shake Shack</th>\n",
              "      <td>11.410516</td>\n",
              "    </tr>\n",
              "    <tr>\n",
              "      <th>The Meatball Shop</th>\n",
              "      <td>6.808431</td>\n",
              "    </tr>\n",
              "    <tr>\n",
              "      <th>Blue Ribbon Sushi</th>\n",
              "      <td>5.845650</td>\n",
              "    </tr>\n",
              "    <tr>\n",
              "      <th>Blue Ribbon Fried Chicken</th>\n",
              "      <td>5.517139</td>\n",
              "    </tr>\n",
              "    <tr>\n",
              "      <th>Parm</th>\n",
              "      <td>3.544377</td>\n",
              "    </tr>\n",
              "    <tr>\n",
              "      <th>...</th>\n",
              "      <td>...</td>\n",
              "    </tr>\n",
              "    <tr>\n",
              "      <th>Market Table</th>\n",
              "      <td>0.016517</td>\n",
              "    </tr>\n",
              "    <tr>\n",
              "      <th>Wa Jeal</th>\n",
              "      <td>0.016396</td>\n",
              "    </tr>\n",
              "    <tr>\n",
              "      <th>Cipriani Le Specialita</th>\n",
              "      <td>0.014401</td>\n",
              "    </tr>\n",
              "    <tr>\n",
              "      <th>Big Wong Restaurant _¤¾Ñ¼</th>\n",
              "      <td>0.014401</td>\n",
              "    </tr>\n",
              "    <tr>\n",
              "      <th>Hunan Manor</th>\n",
              "      <td>0.013914</td>\n",
              "    </tr>\n",
              "  </tbody>\n",
              "</table>\n",
              "<p>178 rows × 1 columns</p>\n",
              "</div>"
            ],
            "text/plain": [
              "                            percentage\n",
              "restaurant_name                       \n",
              "Shake Shack                  11.410516\n",
              "The Meatball Shop             6.808431\n",
              "Blue Ribbon Sushi             5.845650\n",
              "Blue Ribbon Fried Chicken     5.517139\n",
              "Parm                          3.544377\n",
              "...                                ...\n",
              "Market Table                  0.016517\n",
              "Wa Jeal                       0.016396\n",
              "Cipriani Le Specialita        0.014401\n",
              "Big Wong Restaurant _¤¾Ñ¼    0.014401\n",
              "Hunan Manor                   0.013914\n",
              "\n",
              "[178 rows x 1 columns]"
            ]
          },
          "execution_count": 95,
          "metadata": {},
          "output_type": "execute_result"
        }
      ],
      "source": [
        "perce_sum = df.groupby(['restaurant_name'])[['percentage','day_of_the_week']].sum() \n",
        "perce_sum.sort_values(by = 'percentage',ascending=False)"
      ]
    },
    {
      "cell_type": "markdown",
      "metadata": {
        "id": "fGqrq9h0br94"
      },
      "source": [
        "The top 5 most popular restaurants generate the most significant income. The order of popularity corresponds to the order of generated revenue. "
      ]
    },
    {
      "cell_type": "code",
      "execution_count": null,
      "metadata": {
        "scrolled": true,
        "id": "QKJQ_J1dbr94",
        "outputId": "6f9c0649-943b-4789-ea14-c2957478e7d3"
      },
      "outputs": [
        {
          "data": {
            "text/html": [
              "<div>\n",
              "<style scoped>\n",
              "    .dataframe tbody tr th:only-of-type {\n",
              "        vertical-align: middle;\n",
              "    }\n",
              "\n",
              "    .dataframe tbody tr th {\n",
              "        vertical-align: top;\n",
              "    }\n",
              "\n",
              "    .dataframe thead th {\n",
              "        text-align: right;\n",
              "    }\n",
              "</style>\n",
              "<table border=\"1\" class=\"dataframe\">\n",
              "  <thead>\n",
              "    <tr style=\"text-align: right;\">\n",
              "      <th></th>\n",
              "      <th></th>\n",
              "      <th>percentage</th>\n",
              "    </tr>\n",
              "    <tr>\n",
              "      <th>restaurant_name</th>\n",
              "      <th>day_of_the_week</th>\n",
              "      <th></th>\n",
              "    </tr>\n",
              "  </thead>\n",
              "  <tbody>\n",
              "    <tr>\n",
              "      <th>Shake Shack</th>\n",
              "      <th>Weekend</th>\n",
              "      <td>7.388811</td>\n",
              "    </tr>\n",
              "    <tr>\n",
              "      <th>The Meatball Shop</th>\n",
              "      <th>Weekend</th>\n",
              "      <td>4.997768</td>\n",
              "    </tr>\n",
              "    <tr>\n",
              "      <th>Blue Ribbon Fried Chicken</th>\n",
              "      <th>Weekend</th>\n",
              "      <td>4.417177</td>\n",
              "    </tr>\n",
              "    <tr>\n",
              "      <th>Shake Shack</th>\n",
              "      <th>Weekday</th>\n",
              "      <td>4.021705</td>\n",
              "    </tr>\n",
              "    <tr>\n",
              "      <th>Blue Ribbon Sushi</th>\n",
              "      <th>Weekend</th>\n",
              "      <td>4.013264</td>\n",
              "    </tr>\n",
              "    <tr>\n",
              "      <th>...</th>\n",
              "      <th>...</th>\n",
              "      <td>...</td>\n",
              "    </tr>\n",
              "    <tr>\n",
              "      <th>Zero Otto Nove</th>\n",
              "      <th>Weekend</th>\n",
              "      <td>0.014279</td>\n",
              "    </tr>\n",
              "    <tr>\n",
              "      <th>Haveli Indian Restaurant</th>\n",
              "      <th>Weekend</th>\n",
              "      <td>0.013914</td>\n",
              "    </tr>\n",
              "    <tr>\n",
              "      <th>Hunan Manor</th>\n",
              "      <th>Weekday</th>\n",
              "      <td>0.013914</td>\n",
              "    </tr>\n",
              "    <tr>\n",
              "      <th>brgr</th>\n",
              "      <th>Weekday</th>\n",
              "      <td>0.013914</td>\n",
              "    </tr>\n",
              "    <tr>\n",
              "      <th>Haandi</th>\n",
              "      <th>Weekday</th>\n",
              "      <td>0.013793</td>\n",
              "    </tr>\n",
              "  </tbody>\n",
              "</table>\n",
              "<p>280 rows × 1 columns</p>\n",
              "</div>"
            ],
            "text/plain": [
              "                                           percentage\n",
              "restaurant_name           day_of_the_week            \n",
              "Shake Shack               Weekend            7.388811\n",
              "The Meatball Shop         Weekend            4.997768\n",
              "Blue Ribbon Fried Chicken Weekend            4.417177\n",
              "Shake Shack               Weekday            4.021705\n",
              "Blue Ribbon Sushi         Weekend            4.013264\n",
              "...                                               ...\n",
              "Zero Otto Nove            Weekend            0.014279\n",
              "Haveli Indian Restaurant  Weekend            0.013914\n",
              "Hunan Manor               Weekday            0.013914\n",
              "brgr                      Weekday            0.013914\n",
              "Haandi                    Weekday            0.013793\n",
              "\n",
              "[280 rows x 1 columns]"
            ]
          },
          "execution_count": 96,
          "metadata": {},
          "output_type": "execute_result"
        }
      ],
      "source": [
        "# Analysing the day of the week and revenue percentage for each restaurant.\n",
        "perce_sum_day = df.groupby(['restaurant_name','day_of_the_week'])[['percentage',]].sum() \n",
        "perce_sum_day.sort_values(by = 'percentage',ascending=False)"
      ]
    },
    {
      "cell_type": "markdown",
      "metadata": {
        "id": "e-v_xsK9br95"
      },
      "source": [
        "The top 5 restaurants generate the highest revenues from the total revenue. This company's revenues depend on the volume of orders and not on high tickets. \n",
        "The highest revenues are made during weekends."
      ]
    },
    {
      "cell_type": "code",
      "execution_count": null,
      "metadata": {
        "id": "081nv4wtbr95",
        "outputId": "24406586-0325-4869-bf61-7ea55c4614d5"
      },
      "outputs": [
        {
          "data": {
            "text/html": [
              "<div>\n",
              "<style scoped>\n",
              "    .dataframe tbody tr th:only-of-type {\n",
              "        vertical-align: middle;\n",
              "    }\n",
              "\n",
              "    .dataframe tbody tr th {\n",
              "        vertical-align: top;\n",
              "    }\n",
              "\n",
              "    .dataframe thead th {\n",
              "        text-align: right;\n",
              "    }\n",
              "</style>\n",
              "<table border=\"1\" class=\"dataframe\">\n",
              "  <thead>\n",
              "    <tr style=\"text-align: right;\">\n",
              "      <th></th>\n",
              "      <th>percentage</th>\n",
              "    </tr>\n",
              "    <tr>\n",
              "      <th>day_of_the_week</th>\n",
              "      <th></th>\n",
              "    </tr>\n",
              "  </thead>\n",
              "  <tbody>\n",
              "    <tr>\n",
              "      <th>Weekday</th>\n",
              "      <td>28.450345</td>\n",
              "    </tr>\n",
              "    <tr>\n",
              "      <th>Weekend</th>\n",
              "      <td>71.549655</td>\n",
              "    </tr>\n",
              "  </tbody>\n",
              "</table>\n",
              "</div>"
            ],
            "text/plain": [
              "                 percentage\n",
              "day_of_the_week            \n",
              "Weekday           28.450345\n",
              "Weekend           71.549655"
            ]
          },
          "execution_count": 97,
          "metadata": {},
          "output_type": "execute_result"
        }
      ],
      "source": [
        "# Analysing the day of the week and revenue percentage sum for all the DF.\n",
        "df.groupby(['day_of_the_week'])[['percentage',]].sum()"
      ]
    },
    {
      "cell_type": "code",
      "execution_count": null,
      "metadata": {
        "id": "GTn8vxwYbr96",
        "outputId": "a9749348-c9b1-40b1-e21c-182326f465d3"
      },
      "outputs": [
        {
          "data": {
            "text/html": [
              "<div>\n",
              "<style scoped>\n",
              "    .dataframe tbody tr th:only-of-type {\n",
              "        vertical-align: middle;\n",
              "    }\n",
              "\n",
              "    .dataframe tbody tr th {\n",
              "        vertical-align: top;\n",
              "    }\n",
              "\n",
              "    .dataframe thead th {\n",
              "        text-align: right;\n",
              "    }\n",
              "</style>\n",
              "<table border=\"1\" class=\"dataframe\">\n",
              "  <thead>\n",
              "    <tr style=\"text-align: right;\">\n",
              "      <th></th>\n",
              "      <th>revenue</th>\n",
              "    </tr>\n",
              "    <tr>\n",
              "      <th>day_of_the_week</th>\n",
              "      <th></th>\n",
              "    </tr>\n",
              "  </thead>\n",
              "  <tbody>\n",
              "    <tr>\n",
              "      <th>Weekday</th>\n",
              "      <td>1754.3345</td>\n",
              "    </tr>\n",
              "    <tr>\n",
              "      <th>Weekend</th>\n",
              "      <td>4411.9685</td>\n",
              "    </tr>\n",
              "  </tbody>\n",
              "</table>\n",
              "</div>"
            ],
            "text/plain": [
              "                   revenue\n",
              "day_of_the_week           \n",
              "Weekday          1754.3345\n",
              "Weekend          4411.9685"
            ]
          },
          "execution_count": 98,
          "metadata": {},
          "output_type": "execute_result"
        }
      ],
      "source": [
        "# Analysing the day of the week and revenue sum for all the DF.\n",
        "df.groupby(['day_of_the_week'])[['revenue']].sum()"
      ]
    },
    {
      "cell_type": "markdown",
      "metadata": {
        "id": "pRlVW-oeJY_W"
      },
      "source": [
        "### **Question 15:** The company wants to analyze the total time required to deliver the food. What percentage of orders take more than 60 minutes to get delivered from the time the order is placed? (The food has to be prepared and then delivered.) [2 marks]"
      ]
    },
    {
      "cell_type": "code",
      "execution_count": null,
      "metadata": {
        "id": "zxoTrxfLJY_W"
      },
      "outputs": [],
      "source": [
        "# Filtering orders that take more than 60 min to be delivered\n",
        "# Total delivery time was created above.\n",
        "total_time_more60 = df['total_delivery_time'] > 60"
      ]
    },
    {
      "cell_type": "code",
      "execution_count": null,
      "metadata": {
        "id": "GlSjyrcgbr97",
        "outputId": "57d21a2b-fe51-4383-9f6a-141968a2c51b"
      },
      "outputs": [
        {
          "data": {
            "text/plain": [
              "False    89.462592\n",
              "True     10.537408\n",
              "Name: total_delivery_time, dtype: float64"
            ]
          },
          "execution_count": 100,
          "metadata": {},
          "output_type": "execute_result"
        }
      ],
      "source": [
        "# Counting TRUE values \n",
        "total_time_more60.value_counts(normalize = True)* 100"
      ]
    },
    {
      "cell_type": "code",
      "execution_count": null,
      "metadata": {
        "id": "0xiqpK6zbr97",
        "outputId": "39aa1845-ec7d-449a-bc80-307b244ccd8b"
      },
      "outputs": [
        {
          "data": {
            "text/plain": [
              "False    1698\n",
              "True      200\n",
              "Name: total_delivery_time, dtype: int64"
            ]
          },
          "execution_count": 101,
          "metadata": {},
          "output_type": "execute_result"
        }
      ],
      "source": [
        "total_time_more60.value_counts()"
      ]
    },
    {
      "cell_type": "markdown",
      "metadata": {
        "id": "iqzBXn2yJY_W"
      },
      "source": [
        "#### Observations:\n",
        "* 10.5% of the orders take more than 60 minutes to deliver the food once the order is placed. \n",
        "* This represents a total amount of 200 orders."
      ]
    },
    {
      "cell_type": "markdown",
      "metadata": {
        "id": "bUd6cYpPJY_W"
      },
      "source": [
        "### **Question 16:** The company wants to analyze the delivery time of the orders on weekdays and weekends. How does the mean delivery time vary during weekdays and weekends? [2 marks]"
      ]
    },
    {
      "cell_type": "code",
      "execution_count": null,
      "metadata": {
        "id": "pIU5xZZ6JY_W",
        "outputId": "2fa55e54-772c-4304-dc9c-08fdbcd6e001"
      },
      "outputs": [
        {
          "data": {
            "text/html": [
              "<div>\n",
              "<style scoped>\n",
              "    .dataframe tbody tr th:only-of-type {\n",
              "        vertical-align: middle;\n",
              "    }\n",
              "\n",
              "    .dataframe tbody tr th {\n",
              "        vertical-align: top;\n",
              "    }\n",
              "\n",
              "    .dataframe thead th {\n",
              "        text-align: right;\n",
              "    }\n",
              "</style>\n",
              "<table border=\"1\" class=\"dataframe\">\n",
              "  <thead>\n",
              "    <tr style=\"text-align: right;\">\n",
              "      <th></th>\n",
              "      <th>total_delivery_time</th>\n",
              "    </tr>\n",
              "    <tr>\n",
              "      <th>day_of_the_week</th>\n",
              "      <th></th>\n",
              "    </tr>\n",
              "  </thead>\n",
              "  <tbody>\n",
              "    <tr>\n",
              "      <th>Weekday</th>\n",
              "      <td>55.552102</td>\n",
              "    </tr>\n",
              "    <tr>\n",
              "      <th>Weekend</th>\n",
              "      <td>49.906736</td>\n",
              "    </tr>\n",
              "  </tbody>\n",
              "</table>\n",
              "</div>"
            ],
            "text/plain": [
              "                 total_delivery_time\n",
              "day_of_the_week                     \n",
              "Weekday                    55.552102\n",
              "Weekend                    49.906736"
            ]
          },
          "execution_count": 102,
          "metadata": {},
          "output_type": "execute_result"
        }
      ],
      "source": [
        "# Analyzing the 3 variables related to time.\n",
        "df.groupby(['day_of_the_week'])[['total_delivery_time']].mean() "
      ]
    },
    {
      "cell_type": "code",
      "execution_count": null,
      "metadata": {
        "scrolled": true,
        "id": "94wZFSaybr99",
        "outputId": "a8efb413-a4a8-417a-f978-5bea2e797b4b"
      },
      "outputs": [
        {
          "data": {
            "text/html": [
              "<div>\n",
              "<style scoped>\n",
              "    .dataframe tbody tr th:only-of-type {\n",
              "        vertical-align: middle;\n",
              "    }\n",
              "\n",
              "    .dataframe tbody tr th {\n",
              "        vertical-align: top;\n",
              "    }\n",
              "\n",
              "    .dataframe thead th {\n",
              "        text-align: right;\n",
              "    }\n",
              "</style>\n",
              "<table border=\"1\" class=\"dataframe\">\n",
              "  <thead>\n",
              "    <tr style=\"text-align: right;\">\n",
              "      <th></th>\n",
              "      <th>food_preparation_time</th>\n",
              "    </tr>\n",
              "    <tr>\n",
              "      <th>day_of_the_week</th>\n",
              "      <th></th>\n",
              "    </tr>\n",
              "  </thead>\n",
              "  <tbody>\n",
              "    <tr>\n",
              "      <th>Weekday</th>\n",
              "      <td>27.212066</td>\n",
              "    </tr>\n",
              "    <tr>\n",
              "      <th>Weekend</th>\n",
              "      <td>27.436714</td>\n",
              "    </tr>\n",
              "  </tbody>\n",
              "</table>\n",
              "</div>"
            ],
            "text/plain": [
              "                 food_preparation_time\n",
              "day_of_the_week                       \n",
              "Weekday                      27.212066\n",
              "Weekend                      27.436714"
            ]
          },
          "execution_count": 103,
          "metadata": {},
          "output_type": "execute_result"
        }
      ],
      "source": [
        "df.groupby(['day_of_the_week'])[['food_preparation_time']].mean() "
      ]
    },
    {
      "cell_type": "code",
      "execution_count": null,
      "metadata": {
        "id": "ZDPZW0axbr99",
        "outputId": "102df76a-b60f-40c8-b5e9-7bbae99a1ea7"
      },
      "outputs": [
        {
          "data": {
            "text/html": [
              "<div>\n",
              "<style scoped>\n",
              "    .dataframe tbody tr th:only-of-type {\n",
              "        vertical-align: middle;\n",
              "    }\n",
              "\n",
              "    .dataframe tbody tr th {\n",
              "        vertical-align: top;\n",
              "    }\n",
              "\n",
              "    .dataframe thead th {\n",
              "        text-align: right;\n",
              "    }\n",
              "</style>\n",
              "<table border=\"1\" class=\"dataframe\">\n",
              "  <thead>\n",
              "    <tr style=\"text-align: right;\">\n",
              "      <th></th>\n",
              "      <th>delivery_time</th>\n",
              "    </tr>\n",
              "    <tr>\n",
              "      <th>day_of_the_week</th>\n",
              "      <th></th>\n",
              "    </tr>\n",
              "  </thead>\n",
              "  <tbody>\n",
              "    <tr>\n",
              "      <th>Weekday</th>\n",
              "      <td>28.340037</td>\n",
              "    </tr>\n",
              "    <tr>\n",
              "      <th>Weekend</th>\n",
              "      <td>22.470022</td>\n",
              "    </tr>\n",
              "  </tbody>\n",
              "</table>\n",
              "</div>"
            ],
            "text/plain": [
              "                 delivery_time\n",
              "day_of_the_week               \n",
              "Weekday              28.340037\n",
              "Weekend              22.470022"
            ]
          },
          "execution_count": 104,
          "metadata": {},
          "output_type": "execute_result"
        }
      ],
      "source": [
        "df.groupby(['day_of_the_week'])[['delivery_time']].mean() "
      ]
    },
    {
      "cell_type": "markdown",
      "metadata": {
        "id": "8H-ODxbVJY_W"
      },
      "source": [
        "#### Observations:\n",
        "* Delivery times take slightly more time to deliver (since the order is placed) on Weekdays. \n",
        "* The difference in mean delivery time weekends vs weekdays is just 5.6 minutes. \n",
        "* This difference is directly dependent on \"delivery time\". "
      ]
    },
    {
      "cell_type": "markdown",
      "metadata": {
        "id": "17roJywaJY_W"
      },
      "source": [
        "### Conclusion and Recommendations"
      ]
    },
    {
      "cell_type": "markdown",
      "metadata": {
        "id": "ZdX2Wz4FJY_W"
      },
      "source": [
        "### **Question 17:** What are your conclusions from the analysis? What recommendations would you like to share to help improve the business? (You can use cuisine type and feedback ratings to drive your business recommendations.) [6 marks]"
      ]
    },
    {
      "cell_type": "markdown",
      "metadata": {
        "id": "VTugVsL4Ddz-"
      },
      "source": [
        "### Conclusions:\n",
        "* There is no correlation between variables on the data set. When “Total delivery order” is created between delivery time and preparation time, this variable inevitably showed a high correlation with one another. \n",
        "\n",
        "* There are 14 different cuisine types, and the most popular is American cuisine with 584 orders, followed by Japanese with 470, Italian with 298, and Chinese with 215.\n",
        "\n",
        "* Vietnamese and Spanish food are the least popular cuisine types with 12 and 7 orders placed.\n",
        "\n",
        "* In total, 71% of the orders are placed on weekends and only 29% are placed on weekdays. \n",
        "\n",
        "* The median cost of the order is USD 14, but prices are most frequently between USD 11-12.\n",
        "\n",
        "* People rate high with 5, independent of the total time that it takes for the food to be delivered and independent of the day of the week. \n",
        "\n",
        "* There is no correlation between the rating given to the food and the cost of the order, which means that ratings don’t depend on the price paid for the food.\n",
        "\n",
        "* Food preparation time takes the same independent of the day of the week, and its median preparation time is 27 minutes. Preparation time ranges from 20-35 minutes. \n",
        "\n",
        "* Delivery food time has a range of time of 15-33 minutes and a median of 24.16 minutes. \n",
        "\n",
        "* There is a clear difference between the delivery time on weekdays and weekends. The delivery time during weekdays won’t take less than 24 minutes and will take a maximum of 33 minutes, while weekends delivery times are made in a minimum of 15 minutes and a maximum of 30 minutes. There is a difference of 9 more minutes between the minimum delivery times between weekdays and weekends. \n",
        "\n",
        "* 71 % of the orders are placed on weekends, and even though fewer orders are being placed on weekdays, it takes longer on weekdays for the food to be delivered. Retards are not caused by a saturation of the orders being placed, but rather from an external factor such as weekdays traffic from everyday commuting (work,schools, etc), however, internal factors such as not having enough delivery workers may also be affecting.  \n",
        "\n",
        "* The top 5 most popular restaurants to order from are Shake Shack, Meatball Shop, Blue Ribben Sushi, Blue Ribbon Fried Chicken, and Parm. This restaurants are also the top 5 revenue generators for the App: 11.42%, 6.80%, 5.83%, 5.51% and 3.54% of total revenue.\n",
        "\n",
        "* Revenues' principal component is the variety of restaurants to choose from. The App revenues come mainly from the volume of orders placed, and not from the high tickets.\n",
        "\n",
        "\n",
        "\n"
      ]
    },
    {
      "cell_type": "markdown",
      "metadata": {
        "id": "PWnsI0i_guWJ"
      },
      "source": [
        "### Recommendations:\n",
        "There are two areas of opportunity:\n",
        "1. Improve delivery times on weekdays.\n",
        "2. Increase sales on weekdays\n",
        "\n",
        "Improve delivery times on weekdays:\n",
        "\n",
        "Delivery time on weekdays is longer because of everyday commuting traffic (workers/schools/etc.), therefore changing the logistics strategy by increasing bicycle deliveries; and other transportation methods such as scooters and motorcycles would be an option to reduce time delivery. \n",
        "\n",
        "A good customer experience is necessary for customer loyalty.  \n",
        "\n",
        "To increase sales on weekdays:\n",
        "1. Give coupons for free deliveries to the top 5 most popular restaurants and top 5 revenue generator restaurants.\n",
        "2. Give packages/combos in alliance with the top 5 revenue generators to a) increase the frequency of orders  and b) increase tickets' total price per order. \n"
      ]
    },
    {
      "cell_type": "markdown",
      "metadata": {
        "id": "tSoucKKbg9Hc"
      },
      "source": [
        "---"
      ]
    }
  ],
  "metadata": {
    "colab": {
      "collapsed_sections": [],
      "provenance": [],
      "include_colab_link": true
    },
    "kernelspec": {
      "display_name": "Python 3 (ipykernel)",
      "language": "python",
      "name": "python3"
    },
    "language_info": {
      "codemirror_mode": {
        "name": "ipython",
        "version": 3
      },
      "file_extension": ".py",
      "mimetype": "text/x-python",
      "name": "python",
      "nbconvert_exporter": "python",
      "pygments_lexer": "ipython3",
      "version": "3.9.7"
    }
  },
  "nbformat": 4,
  "nbformat_minor": 0
}